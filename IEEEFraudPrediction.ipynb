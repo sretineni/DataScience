{
 "cells": [
  {
   "cell_type": "markdown",
   "metadata": {},
   "source": [
    "# Homework 2 - IEEE Fraud Detection"
   ]
  },
  {
   "cell_type": "markdown",
   "metadata": {},
   "source": [
    "For all parts below, answer all parts as shown in the Google document for Homework 2. Be sure to include both code that justifies your answer as well as text to answer the questions. We also ask that code be commented to make it easier to follow."
   ]
  },
  {
   "cell_type": "code",
   "execution_count": 148,
   "metadata": {},
   "outputs": [],
   "source": [
    "#import libraries\n",
    "import pandas as pd\n",
    "import numpy as np\n",
    "import seaborn as sbn\n",
    "sbn.set(style=\"darkgrid\")\n",
    "import matplotlib.mlab as mat\n",
    "import matplotlib.pyplot as plt\n",
    "import datetime\n",
    "from datetime import timedelta\n",
    "from collections import Counter"
   ]
  },
  {
   "cell_type": "code",
   "execution_count": 246,
   "metadata": {},
   "outputs": [
    {
     "data": {
      "text/html": [
       "<div>\n",
       "<style scoped>\n",
       "    .dataframe tbody tr th:only-of-type {\n",
       "        vertical-align: middle;\n",
       "    }\n",
       "\n",
       "    .dataframe tbody tr th {\n",
       "        vertical-align: top;\n",
       "    }\n",
       "\n",
       "    .dataframe thead th {\n",
       "        text-align: right;\n",
       "    }\n",
       "</style>\n",
       "<table border=\"1\" class=\"dataframe\">\n",
       "  <thead>\n",
       "    <tr style=\"text-align: right;\">\n",
       "      <th></th>\n",
       "      <th>TransactionID</th>\n",
       "      <th>isFraud</th>\n",
       "      <th>TransactionDT</th>\n",
       "      <th>TransactionAmt</th>\n",
       "      <th>ProductCD</th>\n",
       "      <th>card4</th>\n",
       "      <th>card6</th>\n",
       "      <th>P_emaildomain</th>\n",
       "      <th>R_emaildomain</th>\n",
       "      <th>addr1</th>\n",
       "      <th>addr2</th>\n",
       "      <th>dist1</th>\n",
       "      <th>dist2</th>\n",
       "    </tr>\n",
       "  </thead>\n",
       "  <tbody>\n",
       "    <tr>\n",
       "      <th>0</th>\n",
       "      <td>2987000</td>\n",
       "      <td>0</td>\n",
       "      <td>86400</td>\n",
       "      <td>68.5</td>\n",
       "      <td>W</td>\n",
       "      <td>discover</td>\n",
       "      <td>credit</td>\n",
       "      <td>NaN</td>\n",
       "      <td>NaN</td>\n",
       "      <td>315.0</td>\n",
       "      <td>87.0</td>\n",
       "      <td>19.0</td>\n",
       "      <td>NaN</td>\n",
       "    </tr>\n",
       "    <tr>\n",
       "      <th>1</th>\n",
       "      <td>2987001</td>\n",
       "      <td>0</td>\n",
       "      <td>86401</td>\n",
       "      <td>29.0</td>\n",
       "      <td>W</td>\n",
       "      <td>mastercard</td>\n",
       "      <td>credit</td>\n",
       "      <td>gmail.com</td>\n",
       "      <td>NaN</td>\n",
       "      <td>325.0</td>\n",
       "      <td>87.0</td>\n",
       "      <td>NaN</td>\n",
       "      <td>NaN</td>\n",
       "    </tr>\n",
       "    <tr>\n",
       "      <th>2</th>\n",
       "      <td>2987002</td>\n",
       "      <td>0</td>\n",
       "      <td>86469</td>\n",
       "      <td>59.0</td>\n",
       "      <td>W</td>\n",
       "      <td>visa</td>\n",
       "      <td>debit</td>\n",
       "      <td>outlook.com</td>\n",
       "      <td>NaN</td>\n",
       "      <td>330.0</td>\n",
       "      <td>87.0</td>\n",
       "      <td>287.0</td>\n",
       "      <td>NaN</td>\n",
       "    </tr>\n",
       "    <tr>\n",
       "      <th>3</th>\n",
       "      <td>2987003</td>\n",
       "      <td>0</td>\n",
       "      <td>86499</td>\n",
       "      <td>50.0</td>\n",
       "      <td>W</td>\n",
       "      <td>mastercard</td>\n",
       "      <td>debit</td>\n",
       "      <td>yahoo.com</td>\n",
       "      <td>NaN</td>\n",
       "      <td>476.0</td>\n",
       "      <td>87.0</td>\n",
       "      <td>NaN</td>\n",
       "      <td>NaN</td>\n",
       "    </tr>\n",
       "    <tr>\n",
       "      <th>4</th>\n",
       "      <td>2987004</td>\n",
       "      <td>0</td>\n",
       "      <td>86506</td>\n",
       "      <td>50.0</td>\n",
       "      <td>H</td>\n",
       "      <td>mastercard</td>\n",
       "      <td>credit</td>\n",
       "      <td>gmail.com</td>\n",
       "      <td>NaN</td>\n",
       "      <td>420.0</td>\n",
       "      <td>87.0</td>\n",
       "      <td>NaN</td>\n",
       "      <td>NaN</td>\n",
       "    </tr>\n",
       "  </tbody>\n",
       "</table>\n",
       "</div>"
      ],
      "text/plain": [
       "   TransactionID  isFraud  TransactionDT  TransactionAmt ProductCD  \\\n",
       "0        2987000        0          86400            68.5         W   \n",
       "1        2987001        0          86401            29.0         W   \n",
       "2        2987002        0          86469            59.0         W   \n",
       "3        2987003        0          86499            50.0         W   \n",
       "4        2987004        0          86506            50.0         H   \n",
       "\n",
       "        card4   card6 P_emaildomain R_emaildomain  addr1  addr2  dist1  dist2  \n",
       "0    discover  credit           NaN           NaN  315.0   87.0   19.0    NaN  \n",
       "1  mastercard  credit     gmail.com           NaN  325.0   87.0    NaN    NaN  \n",
       "2        visa   debit   outlook.com           NaN  330.0   87.0  287.0    NaN  \n",
       "3  mastercard   debit     yahoo.com           NaN  476.0   87.0    NaN    NaN  \n",
       "4  mastercard  credit     gmail.com           NaN  420.0   87.0    NaN    NaN  "
      ]
     },
     "execution_count": 246,
     "metadata": {},
     "output_type": "execute_result"
    }
   ],
   "source": [
    "#load data\n",
    "#take necessary columns from identity table of train data\n",
    "df_train_id = pd.read_csv(\"C:/Users/sneha/Downloads/Homeworks/DSF/train_identity.csv\")\n",
    "df_train_idsel = df_train_id[['TransactionID','DeviceType','DeviceInfo']]\n",
    "df_train_idsel.head()\n",
    "\n",
    "#take necessary columns from transaction table of train data\n",
    "df_train_trans = pd.read_csv(\"C:/Users/sneha/Downloads/Homeworks/DSF/train_transaction.csv\") \n",
    "df_train_transsel = df_train_trans[['TransactionID','isFraud','TransactionDT','TransactionAmt','ProductCD','card4','card6','P_emaildomain','R_emaildomain',\n",
    "'addr1','addr2','dist1','dist2']]\n",
    "df_train_transsel.head()"
   ]
  },
  {
   "cell_type": "code",
   "execution_count": 247,
   "metadata": {
    "scrolled": true
   },
   "outputs": [
    {
     "data": {
      "text/html": [
       "<div>\n",
       "<style scoped>\n",
       "    .dataframe tbody tr th:only-of-type {\n",
       "        vertical-align: middle;\n",
       "    }\n",
       "\n",
       "    .dataframe tbody tr th {\n",
       "        vertical-align: top;\n",
       "    }\n",
       "\n",
       "    .dataframe thead th {\n",
       "        text-align: right;\n",
       "    }\n",
       "</style>\n",
       "<table border=\"1\" class=\"dataframe\">\n",
       "  <thead>\n",
       "    <tr style=\"text-align: right;\">\n",
       "      <th></th>\n",
       "      <th>TransactionID</th>\n",
       "      <th>DeviceType</th>\n",
       "      <th>DeviceInfo</th>\n",
       "      <th>isFraud</th>\n",
       "      <th>TransactionDT</th>\n",
       "      <th>TransactionAmt</th>\n",
       "      <th>ProductCD</th>\n",
       "      <th>card4</th>\n",
       "      <th>card6</th>\n",
       "      <th>P_emaildomain</th>\n",
       "      <th>R_emaildomain</th>\n",
       "      <th>addr1</th>\n",
       "      <th>addr2</th>\n",
       "      <th>dist1</th>\n",
       "      <th>dist2</th>\n",
       "    </tr>\n",
       "  </thead>\n",
       "  <tbody>\n",
       "    <tr>\n",
       "      <th>0</th>\n",
       "      <td>2987004</td>\n",
       "      <td>mobile</td>\n",
       "      <td>SAMSUNG SM-G892A Build/NRD90M</td>\n",
       "      <td>0</td>\n",
       "      <td>86506</td>\n",
       "      <td>50.000</td>\n",
       "      <td>H</td>\n",
       "      <td>mastercard</td>\n",
       "      <td>credit</td>\n",
       "      <td>gmail.com</td>\n",
       "      <td>NaN</td>\n",
       "      <td>420.0</td>\n",
       "      <td>87.0</td>\n",
       "      <td>NaN</td>\n",
       "      <td>NaN</td>\n",
       "    </tr>\n",
       "    <tr>\n",
       "      <th>1</th>\n",
       "      <td>2987008</td>\n",
       "      <td>mobile</td>\n",
       "      <td>iOS Device</td>\n",
       "      <td>0</td>\n",
       "      <td>86535</td>\n",
       "      <td>15.000</td>\n",
       "      <td>H</td>\n",
       "      <td>visa</td>\n",
       "      <td>debit</td>\n",
       "      <td>anonymous.com</td>\n",
       "      <td>NaN</td>\n",
       "      <td>337.0</td>\n",
       "      <td>87.0</td>\n",
       "      <td>NaN</td>\n",
       "      <td>NaN</td>\n",
       "    </tr>\n",
       "    <tr>\n",
       "      <th>2</th>\n",
       "      <td>2987010</td>\n",
       "      <td>desktop</td>\n",
       "      <td>Windows</td>\n",
       "      <td>0</td>\n",
       "      <td>86549</td>\n",
       "      <td>75.887</td>\n",
       "      <td>C</td>\n",
       "      <td>mastercard</td>\n",
       "      <td>credit</td>\n",
       "      <td>gmail.com</td>\n",
       "      <td>gmail.com</td>\n",
       "      <td>NaN</td>\n",
       "      <td>NaN</td>\n",
       "      <td>NaN</td>\n",
       "      <td>NaN</td>\n",
       "    </tr>\n",
       "    <tr>\n",
       "      <th>3</th>\n",
       "      <td>2987011</td>\n",
       "      <td>desktop</td>\n",
       "      <td>NaN</td>\n",
       "      <td>0</td>\n",
       "      <td>86555</td>\n",
       "      <td>16.495</td>\n",
       "      <td>C</td>\n",
       "      <td>mastercard</td>\n",
       "      <td>debit</td>\n",
       "      <td>hotmail.com</td>\n",
       "      <td>hotmail.com</td>\n",
       "      <td>NaN</td>\n",
       "      <td>NaN</td>\n",
       "      <td>NaN</td>\n",
       "      <td>30.0</td>\n",
       "    </tr>\n",
       "    <tr>\n",
       "      <th>4</th>\n",
       "      <td>2987016</td>\n",
       "      <td>desktop</td>\n",
       "      <td>MacOS</td>\n",
       "      <td>0</td>\n",
       "      <td>86620</td>\n",
       "      <td>30.000</td>\n",
       "      <td>H</td>\n",
       "      <td>visa</td>\n",
       "      <td>debit</td>\n",
       "      <td>aol.com</td>\n",
       "      <td>NaN</td>\n",
       "      <td>170.0</td>\n",
       "      <td>87.0</td>\n",
       "      <td>NaN</td>\n",
       "      <td>NaN</td>\n",
       "    </tr>\n",
       "  </tbody>\n",
       "</table>\n",
       "</div>"
      ],
      "text/plain": [
       "   TransactionID DeviceType                     DeviceInfo  isFraud  \\\n",
       "0        2987004     mobile  SAMSUNG SM-G892A Build/NRD90M        0   \n",
       "1        2987008     mobile                     iOS Device        0   \n",
       "2        2987010    desktop                        Windows        0   \n",
       "3        2987011    desktop                            NaN        0   \n",
       "4        2987016    desktop                          MacOS        0   \n",
       "\n",
       "   TransactionDT  TransactionAmt ProductCD       card4   card6  P_emaildomain  \\\n",
       "0          86506          50.000         H  mastercard  credit      gmail.com   \n",
       "1          86535          15.000         H        visa   debit  anonymous.com   \n",
       "2          86549          75.887         C  mastercard  credit      gmail.com   \n",
       "3          86555          16.495         C  mastercard   debit    hotmail.com   \n",
       "4          86620          30.000         H        visa   debit        aol.com   \n",
       "\n",
       "  R_emaildomain  addr1  addr2  dist1  dist2  \n",
       "0           NaN  420.0   87.0    NaN    NaN  \n",
       "1           NaN  337.0   87.0    NaN    NaN  \n",
       "2     gmail.com    NaN    NaN    NaN    NaN  \n",
       "3   hotmail.com    NaN    NaN    NaN   30.0  \n",
       "4           NaN  170.0   87.0    NaN    NaN  "
      ]
     },
     "execution_count": 247,
     "metadata": {},
     "output_type": "execute_result"
    }
   ],
   "source": [
    "#Outer join on both transaction and identity tables of train data\n",
    "df_c = pd.merge(df_train_idsel, df_train_transsel, on='TransactionID', how='outer')\n",
    "df_c.head()"
   ]
  },
  {
   "cell_type": "markdown",
   "metadata": {},
   "source": [
    "## Part 1 - Fraudulent vs Non-Fraudulent Transaction"
   ]
  },
  {
   "cell_type": "markdown",
   "metadata": {},
   "source": [
    "DEVICE TYPE distribution for fraudulent and non fraudulent transactions."
   ]
  },
  {
   "cell_type": "code",
   "execution_count": 248,
   "metadata": {
    "scrolled": true
   },
   "outputs": [],
   "source": [
    "# TODO: code and runtime results\n",
    "# We filter out the fraudulent and non fraudulent transactions.\n",
    "df_fraud = df_c[df_c['isFraud']==1]\n",
    "df_nfraud = df_c[df_c['isFraud']==0]\n"
   ]
  },
  {
   "cell_type": "code",
   "execution_count": 462,
   "metadata": {
    "scrolled": true
   },
   "outputs": [
    {
     "data": {
      "image/png": "[encoded data removed]",
      "text/plain": [
       "<Figure size 720x288 with 2 Axes>"
      ]
     },
     "metadata": {},
     "output_type": "display_data"
    }
   ],
   "source": [
    "#We plot the percentage of each device type for fraudulent and non fraudulent transactions.\n",
    "fg, ax = plt.subplots(nrows=1, ncols=2, figsize=(10, 4))\n",
    "title = ['Device type for Fraudulent' , 'Device type for Non Fraudulent']\n",
    "data = [df_fraud['DeviceType'].value_counts(normalize=True) * 100, df_nfraud['DeviceType'].value_counts(normalize=True) * 100]\n",
    "for i in range(0,len(data)):\n",
    "    data[i].plot(kind='bar', ax=ax[i])\n",
    "    ax[i].title.set_text(title[i])\n"
   ]
  },
  {
   "cell_type": "markdown",
   "metadata": {},
   "source": [
    "We can observe that fraudulent transactions have almost the same percentage of mobile and desktop devices, \n",
    "while non fraudulent ones mostly used desktop devices."
   ]
  },
  {
   "cell_type": "markdown",
   "metadata": {},
   "source": [
    "Percentage distribution of fraudulent and non fraudulent transactions for each card type in card4."
   ]
  },
  {
   "cell_type": "code",
   "execution_count": 360,
   "metadata": {
    "scrolled": true
   },
   "outputs": [
    {
     "name": "stdout",
     "output_type": "stream",
     "text": [
      "isFraud                   0         1\n",
      "card4                                \n",
      "american express  97.130163  2.869837\n",
      "discover          92.271839  7.728161\n",
      "mastercard        96.566905  3.433095\n",
      "visa              96.524390  3.475610\n"
     ]
    }
   ],
   "source": [
    "#CARD4 - We find out the percentage of fraudulent transactions of each card type.\n",
    "card4Tab = pd.crosstab(index=df_c[\"card4\"],columns=df_c[\"isFraud\"], normalize='index')\n",
    "card4Tab = card4Tab*100\n",
    "print(card4Tab)"
   ]
  },
  {
   "cell_type": "code",
   "execution_count": 467,
   "metadata": {
    "scrolled": false
   },
   "outputs": [
    {
     "data": {
      "text/plain": [
       "Text(0.5, 1.0, '% Fraudulent/Non Fraudulent Vs Card4 type')"
      ]
     },
     "execution_count": 467,
     "metadata": {},
     "output_type": "execute_result"
    },
    {
     "data": {
      "image/png": "[encoded data removed]",
      "text/plain": [
       "<Figure size 432x360 with 1 Axes>"
      ]
     },
     "metadata": {},
     "output_type": "display_data"
    }
   ],
   "source": [
    "#Plotting the percentages of fraudulent and non fraudulent transactions of each card type. \n",
    "plot = card4Tab.plot(kind=\"bar\",figsize=(6,5),stacked=True)\n",
    "plot.set_title('% Fraudulent/Non Fraudulent Vs Card4 type')"
   ]
  },
  {
   "cell_type": "markdown",
   "metadata": {},
   "source": [
    "We observe that discover card has the highest percentage of fraudulent transactions, at almost 8%, \n",
    "while American Express has the least percentage of fraudulent transactions."
   ]
  },
  {
   "cell_type": "markdown",
   "metadata": {},
   "source": [
    "Percentage distribution of fraudulent and non fraudulent transactions for each card type in card6."
   ]
  },
  {
   "cell_type": "code",
   "execution_count": 253,
   "metadata": {},
   "outputs": [
    {
     "name": "stdout",
     "output_type": "stream",
     "text": [
      "isFraud                   0         1\n",
      "card6                                \n",
      "charge card      100.000000  0.000000\n",
      "credit            93.321520  6.678480\n",
      "debit             97.573749  2.426251\n",
      "debit or credit  100.000000  0.000000\n"
     ]
    }
   ],
   "source": [
    "#CARD6 - We find out the percentage of fraudulent transactions of each card type in card6.\n",
    "card6Tab = pd.crosstab(index=df_c[\"card6\"],columns=df_c[\"isFraud\"], normalize='index')\n",
    "card6Tab = card6Tab*100\n",
    "print(card6Tab)"
   ]
  },
  {
   "cell_type": "code",
   "execution_count": 468,
   "metadata": {
    "scrolled": true
   },
   "outputs": [
    {
     "data": {
      "text/plain": [
       "Text(0.5, 1.0, '% Fraudulent/Non Fraudulent Vs Card6 type')"
      ]
     },
     "execution_count": 468,
     "metadata": {},
     "output_type": "execute_result"
    },
    {
     "data": {
      "image/png": "[encoded data removed]",
      "text/plain": [
       "<Figure size 576x360 with 1 Axes>"
      ]
     },
     "metadata": {},
     "output_type": "display_data"
    }
   ],
   "source": [
    "#Plotting the percentages of fraudulent and non fraudulent transactions of each card6 type. \n",
    "\n",
    "card6plot = card6Tab.plot(kind=\"bar\",figsize=(8,5),stacked=True)\n",
    "card6plot.set_title('% Fraudulent/Non Fraudulent Vs Card6 type')"
   ]
  },
  {
   "cell_type": "markdown",
   "metadata": {},
   "source": [
    "We observe that credit cards have the highest percentage of fraudulent transactions, followed by debit. \n",
    "Interestingly, charged card had no fraudulent transactions."
   ]
  },
  {
   "cell_type": "markdown",
   "metadata": {},
   "source": [
    "Percentage distribution of fraudulent and non fraudulent transactions for each product code."
   ]
  },
  {
   "cell_type": "code",
   "execution_count": 255,
   "metadata": {},
   "outputs": [
    {
     "name": "stdout",
     "output_type": "stream",
     "text": [
      "isFraud            0          1\n",
      "ProductCD                      \n",
      "C          88.312731  11.687269\n",
      "H          95.233769   4.766231\n",
      "R          96.217406   3.782594\n",
      "S          94.100447   5.899553\n",
      "W          97.960061   2.039939\n"
     ]
    }
   ],
   "source": [
    "#ProductCD We find out the percentage of fraudulent transactions of each PRODUCT CODE.\n",
    "ProductCDTab = pd.crosstab(index=df_c[\"ProductCD\"],columns=df_c[\"isFraud\"], normalize='index')\n",
    "ProductCDTab = ProductCDTab*100\n",
    "print(ProductCDTab)"
   ]
  },
  {
   "cell_type": "code",
   "execution_count": 469,
   "metadata": {
    "scrolled": false
   },
   "outputs": [
    {
     "data": {
      "text/plain": [
       "Text(0.5, 1.0, '% Fraudulent/Non Fraudulent Vs product code')"
      ]
     },
     "execution_count": 469,
     "metadata": {},
     "output_type": "execute_result"
    },
    {
     "data": {
      "image/png": "[encoded data removed]",
      "text/plain": [
       "<Figure size 576x360 with 1 Axes>"
      ]
     },
     "metadata": {},
     "output_type": "display_data"
    }
   ],
   "source": [
    "productplot = ProductCDTab.plot(kind=\"bar\",figsize=(8,5),stacked=True)\n",
    "productplot.set_title('% Fraudulent/Non Fraudulent Vs product code')"
   ]
  },
  {
   "cell_type": "markdown",
   "metadata": {},
   "source": [
    "Product code C has the highest, i.e, 11.7% fraudulent transactions and Product code W has the least fraudulent transactions."
   ]
  },
  {
   "cell_type": "markdown",
   "metadata": {},
   "source": [
    "Percentage distribution of fraudulent and non fraudulent transactions for each purchaser email domain."
   ]
  },
  {
   "cell_type": "code",
   "execution_count": 257,
   "metadata": {
    "collapsed": true
   },
   "outputs": [
    {
     "name": "stderr",
     "output_type": "stream",
     "text": [
      "C:\\Users\\sneha\\Anaconda3\\lib\\site-packages\\ipykernel_launcher.py:3: SettingWithCopyWarning: \n",
      "A value is trying to be set on a copy of a slice from a DataFrame\n",
      "\n",
      "See the caveats in the documentation: http://pandas.pydata.org/pandas-docs/stable/indexing.html#indexing-view-versus-copy\n",
      "  This is separate from the ipykernel package so we can avoid doing imports until\n"
     ]
    }
   ],
   "source": [
    "#The P_emaildomain feature has a lot of unique values. So, we take the email domains whose count is less than 5% of the total rows and name them 'P_EmaildomainOther'\n",
    "\n",
    "df_c.P_emaildomain[df_c.P_emaildomain.replace(Counter(df_c.P_emaildomain)) < len(df_c.P_emaildomain)*0.05] = 'P_emaildomainOther'"
   ]
  },
  {
   "cell_type": "code",
   "execution_count": 258,
   "metadata": {},
   "outputs": [
    {
     "name": "stdout",
     "output_type": "stream",
     "text": [
      "isFraud                     0         1\n",
      "P_emaildomain                          \n",
      "P_emaildomainOther  97.187363  2.812637\n",
      "anonymous.com       97.678253  2.321747\n",
      "gmail.com           95.645815  4.354185\n",
      "hotmail.com         94.704972  5.295028\n",
      "yahoo.com           97.724255  2.275745\n"
     ]
    }
   ],
   "source": [
    "#P_emaildomain - We find out the percentage of fraudulent transactions of each Purchaser email domain.\n",
    "P_emaildomainTab = pd.crosstab(index=df_c[\"P_emaildomain\"],columns=df_c[\"isFraud\"], normalize='index')\n",
    "P_emaildomainTab = P_emaildomainTab*100\n",
    "print(P_emaildomainTab)"
   ]
  },
  {
   "cell_type": "code",
   "execution_count": 470,
   "metadata": {
    "scrolled": true
   },
   "outputs": [
    {
     "data": {
      "text/plain": [
       "Text(0.5, 1.0, '% Fraudulent/Non Fraudulent Vs  P email domain')"
      ]
     },
     "execution_count": 470,
     "metadata": {},
     "output_type": "execute_result"
    },
    {
     "data": {
      "image/png": "[encoded data removed]",
      "text/plain": [
       "<Figure size 576x360 with 1 Axes>"
      ]
     },
     "metadata": {},
     "output_type": "display_data"
    }
   ],
   "source": [
    "pplot = P_emaildomainTab.plot(kind=\"bar\",figsize=(8,5),stacked=True)\n",
    "pplot.set_title('% Fraudulent/Non Fraudulent Vs  P email domain')"
   ]
  },
  {
   "cell_type": "markdown",
   "metadata": {},
   "source": [
    "Hotmail has the highest percentage of fraudulent transactions, at 5.3%. "
   ]
  },
  {
   "cell_type": "code",
   "execution_count": 259,
   "metadata": {
    "scrolled": true
   },
   "outputs": [
    {
     "name": "stderr",
     "output_type": "stream",
     "text": [
      "C:\\Users\\sneha\\Anaconda3\\lib\\site-packages\\ipykernel_launcher.py:3: SettingWithCopyWarning: \n",
      "A value is trying to be set on a copy of a slice from a DataFrame\n",
      "\n",
      "See the caveats in the documentation: http://pandas.pydata.org/pandas-docs/stable/indexing.html#indexing-view-versus-copy\n",
      "  This is separate from the ipykernel package so we can avoid doing imports until\n"
     ]
    }
   ],
   "source": [
    "#The R_emaildomain feature has a lot of unique values. So, we take the email domains whose count is less than 1% of the total rows and name them 'R_EmaildomainOther'\n",
    "\n",
    "df_c.R_emaildomain[df_c.R_emaildomain.replace(Counter(df_c.R_emaildomain)) < len(df_c.R_emaildomain)*0.01] = 'R_emaildomainOther'"
   ]
  },
  {
   "cell_type": "code",
   "execution_count": 260,
   "metadata": {},
   "outputs": [
    {
     "name": "stdout",
     "output_type": "stream",
     "text": [
      "isFraud                     0          1\n",
      "R_emaildomain                           \n",
      "R_emaildomainOther  94.729570   5.270430\n",
      "anonymous.com       97.087048   2.912952\n",
      "gmail.com           88.081614  11.918386\n",
      "hotmail.com         92.220728   7.779272\n",
      "yahoo.com           94.848843   5.151157\n"
     ]
    }
   ],
   "source": [
    "#R_emaildomain - We find out the percentage of fraudulent transactions of each Receiver email domain.\n",
    "R_emaildomainTab = pd.crosstab(index=df_c[\"R_emaildomain\"],columns=df_c[\"isFraud\"], normalize='index')\n",
    "R_emaildomainTab = R_emaildomainTab*100\n",
    "print(R_emaildomainTab)"
   ]
  },
  {
   "cell_type": "code",
   "execution_count": 472,
   "metadata": {},
   "outputs": [
    {
     "data": {
      "text/plain": [
       "Text(0.5, 1.0, '% Fraudulent/Non Fraudulent Vs  R email domain')"
      ]
     },
     "execution_count": 472,
     "metadata": {},
     "output_type": "execute_result"
    },
    {
     "data": {
      "image/png": "[encoded data removed]",
      "text/plain": [
       "<Figure size 576x360 with 1 Axes>"
      ]
     },
     "metadata": {},
     "output_type": "display_data"
    }
   ],
   "source": [
    "rplot = R_emaildomainTab.plot(kind=\"bar\",figsize=(8,5),stacked=True)\n",
    "rplot.set_title('% Fraudulent/Non Fraudulent Vs  R email domain')"
   ]
  },
  {
   "cell_type": "markdown",
   "metadata": {},
   "source": [
    "The percentage of fraudulent transactions are more with gmail.com as receiver address."
   ]
  },
  {
   "cell_type": "code",
   "execution_count": 262,
   "metadata": {
    "collapsed": true
   },
   "outputs": [
    {
     "name": "stderr",
     "output_type": "stream",
     "text": [
      "C:\\Users\\sneha\\Anaconda3\\lib\\site-packages\\ipykernel_launcher.py:3: SettingWithCopyWarning: \n",
      "A value is trying to be set on a copy of a slice from a DataFrame\n",
      "\n",
      "See the caveats in the documentation: http://pandas.pydata.org/pandas-docs/stable/indexing.html#indexing-view-versus-copy\n",
      "  This is separate from the ipykernel package so we can avoid doing imports until\n"
     ]
    }
   ],
   "source": [
    "#In the DeviceInfo column, we take the devices whose count is less than 1% of the total rows and name them 'DeviceInfoOther'\n",
    "\n",
    "df_c.DeviceInfo[df_c.DeviceInfo.replace(Counter(df_c.DeviceInfo)) < len(df_c.DeviceInfo)*0.01] = 'DeviceInfoOther'"
   ]
  },
  {
   "cell_type": "code",
   "execution_count": 263,
   "metadata": {},
   "outputs": [
    {
     "name": "stdout",
     "output_type": "stream",
     "text": [
      "isFraud                  0          1\n",
      "DeviceInfo                           \n",
      "DeviceInfoOther  87.569424  12.430576\n",
      "MacOS            97.788913   2.211087\n",
      "Trident/7.0      98.709677   1.290323\n",
      "Windows          93.460039   6.539961\n",
      "iOS Device       93.731675   6.268325\n"
     ]
    }
   ],
   "source": [
    "#DeviceInfo - We find out the percentage of fraudulent transactions of each major device info.\n",
    "DeviceInfoTab = pd.crosstab(index=df_c[\"DeviceInfo\"],columns=df_c[\"isFraud\"], normalize='index')\n",
    "DeviceInfoTab = DeviceInfoTab*100\n",
    "print(DeviceInfoTab)"
   ]
  },
  {
   "cell_type": "code",
   "execution_count": 473,
   "metadata": {},
   "outputs": [
    {
     "data": {
      "text/plain": [
       "Text(0.5, 1.0, '% Fraudulent/Non Fraudulent Vs  Device Info')"
      ]
     },
     "execution_count": 473,
     "metadata": {},
     "output_type": "execute_result"
    },
    {
     "data": {
      "image/png": "[encoded data removed]",
      "text/plain": [
       "<Figure size 576x360 with 1 Axes>"
      ]
     },
     "metadata": {},
     "output_type": "display_data"
    }
   ],
   "source": [
    "deviceInfoplot = DeviceInfoTab.plot(kind=\"bar\",figsize=(8,5),stacked=True)\n",
    "deviceInfoplot.set_title('% Fraudulent/Non Fraudulent Vs  Device Info')"
   ]
  },
  {
   "cell_type": "markdown",
   "metadata": {},
   "source": [
    "Windows and IOS devices as a single device info have the highest percentage of fraudulent transactions \n",
    "at 6.5 and 6.3% respectively."
   ]
  },
  {
   "cell_type": "markdown",
   "metadata": {},
   "source": [
    "Distribution of transaction amount over fraudulent transactions."
   ]
  },
  {
   "cell_type": "code",
   "execution_count": 474,
   "metadata": {},
   "outputs": [
    {
     "data": {
      "text/plain": [
       "Text(0.5, 1.0, 'TransactionAmt Vs Frequency of Fraudulent transactions')"
      ]
     },
     "execution_count": 474,
     "metadata": {},
     "output_type": "execute_result"
    },
    {
     "data": {
      "image/png": "[encoded data removed]",
      "text/plain": [
       "<Figure size 720x720 with 1 Axes>"
      ]
     },
     "metadata": {},
     "output_type": "display_data"
    }
   ],
   "source": [
    "plt.figure(figsize=(10,10))\n",
    "#sbn.distplot(df_nfraud['TransactionAmt'],bins=100)\n",
    "Tamtplot = sbn.distplot(df_fraud['TransactionAmt'],bins=100)\n",
    "Tamtplot.set_title('TransactionAmt Vs Frequency of Fraudulent transactions')"
   ]
  },
  {
   "cell_type": "markdown",
   "metadata": {},
   "source": [
    "Most fraudulent transactions happen over smaller amounts, mostly between 0 to 300. There is again a small spike above 5000."
   ]
  },
  {
   "cell_type": "code",
   "execution_count": 230,
   "metadata": {
    "scrolled": false
   },
   "outputs": [
    {
     "data": {
      "text/plain": [
       "count    569877.000000\n",
       "mean        134.511665\n",
       "std         239.395078\n",
       "min           0.251000\n",
       "25%          43.970000\n",
       "50%          68.500000\n",
       "75%         120.000000\n",
       "max       31937.391000\n",
       "Name: TransactionAmt, dtype: float64"
      ]
     },
     "execution_count": 230,
     "metadata": {},
     "output_type": "execute_result"
    }
   ],
   "source": [
    "df_nfraud['TransactionAmt'].describe()"
   ]
  },
  {
   "cell_type": "markdown",
   "metadata": {},
   "source": [
    "Percentage distribution of fraudulent transactions with TransactionDT"
   ]
  },
  {
   "cell_type": "markdown",
   "metadata": {},
   "source": [
    "We initially perform preprocessing on the TransactionDT column. "
   ]
  },
  {
   "cell_type": "code",
   "execution_count": 457,
   "metadata": {},
   "outputs": [
    {
     "data": {
      "text/html": [
       "<div>\n",
       "<style scoped>\n",
       "    .dataframe tbody tr th:only-of-type {\n",
       "        vertical-align: middle;\n",
       "    }\n",
       "\n",
       "    .dataframe tbody tr th {\n",
       "        vertical-align: top;\n",
       "    }\n",
       "\n",
       "    .dataframe thead th {\n",
       "        text-align: right;\n",
       "    }\n",
       "</style>\n",
       "<table border=\"1\" class=\"dataframe\">\n",
       "  <thead>\n",
       "    <tr style=\"text-align: right;\">\n",
       "      <th></th>\n",
       "      <th>TransactionID</th>\n",
       "      <th>DeviceType</th>\n",
       "      <th>DeviceInfo</th>\n",
       "      <th>isFraud</th>\n",
       "      <th>TransactionDT</th>\n",
       "      <th>TransactionAmt</th>\n",
       "      <th>ProductCD</th>\n",
       "      <th>card4</th>\n",
       "      <th>card6</th>\n",
       "      <th>P_emaildomain</th>\n",
       "      <th>...</th>\n",
       "      <th>addr1</th>\n",
       "      <th>addr2</th>\n",
       "      <th>dist1</th>\n",
       "      <th>dist2</th>\n",
       "      <th>TransactionDTDayNumber</th>\n",
       "      <th>TransactionDTDate</th>\n",
       "      <th>timeDelta</th>\n",
       "      <th>DayOfTheWeek</th>\n",
       "      <th>hourOfDay</th>\n",
       "      <th>month</th>\n",
       "    </tr>\n",
       "  </thead>\n",
       "  <tbody>\n",
       "    <tr>\n",
       "      <th>0</th>\n",
       "      <td>2987004</td>\n",
       "      <td>mobile</td>\n",
       "      <td>DeviceInfoOther</td>\n",
       "      <td>0</td>\n",
       "      <td>86506</td>\n",
       "      <td>50.000</td>\n",
       "      <td>H</td>\n",
       "      <td>mastercard</td>\n",
       "      <td>credit</td>\n",
       "      <td>gmail.com</td>\n",
       "      <td>...</td>\n",
       "      <td>420.0</td>\n",
       "      <td>87.0</td>\n",
       "      <td>NaN</td>\n",
       "      <td>NaN</td>\n",
       "      <td>1</td>\n",
       "      <td>2017-12-02 00:01:46</td>\n",
       "      <td>-8.0</td>\n",
       "      <td>Saturday</td>\n",
       "      <td>0</td>\n",
       "      <td>12</td>\n",
       "    </tr>\n",
       "    <tr>\n",
       "      <th>1</th>\n",
       "      <td>2987008</td>\n",
       "      <td>mobile</td>\n",
       "      <td>iOS Device</td>\n",
       "      <td>0</td>\n",
       "      <td>86535</td>\n",
       "      <td>15.000</td>\n",
       "      <td>H</td>\n",
       "      <td>visa</td>\n",
       "      <td>debit</td>\n",
       "      <td>anonymous.com</td>\n",
       "      <td>...</td>\n",
       "      <td>337.0</td>\n",
       "      <td>87.0</td>\n",
       "      <td>NaN</td>\n",
       "      <td>NaN</td>\n",
       "      <td>1</td>\n",
       "      <td>2017-12-02 00:02:15</td>\n",
       "      <td>-5.0</td>\n",
       "      <td>Saturday</td>\n",
       "      <td>0</td>\n",
       "      <td>12</td>\n",
       "    </tr>\n",
       "    <tr>\n",
       "      <th>2</th>\n",
       "      <td>2987010</td>\n",
       "      <td>desktop</td>\n",
       "      <td>Windows</td>\n",
       "      <td>0</td>\n",
       "      <td>86549</td>\n",
       "      <td>75.887</td>\n",
       "      <td>C</td>\n",
       "      <td>mastercard</td>\n",
       "      <td>credit</td>\n",
       "      <td>gmail.com</td>\n",
       "      <td>...</td>\n",
       "      <td>NaN</td>\n",
       "      <td>NaN</td>\n",
       "      <td>NaN</td>\n",
       "      <td>NaN</td>\n",
       "      <td>1</td>\n",
       "      <td>2017-12-02 00:02:29</td>\n",
       "      <td>0.0</td>\n",
       "      <td>Saturday</td>\n",
       "      <td>0</td>\n",
       "      <td>12</td>\n",
       "    </tr>\n",
       "    <tr>\n",
       "      <th>3</th>\n",
       "      <td>2987011</td>\n",
       "      <td>desktop</td>\n",
       "      <td>NaN</td>\n",
       "      <td>0</td>\n",
       "      <td>86555</td>\n",
       "      <td>16.495</td>\n",
       "      <td>C</td>\n",
       "      <td>mastercard</td>\n",
       "      <td>debit</td>\n",
       "      <td>hotmail.com</td>\n",
       "      <td>...</td>\n",
       "      <td>NaN</td>\n",
       "      <td>NaN</td>\n",
       "      <td>NaN</td>\n",
       "      <td>30.0</td>\n",
       "      <td>1</td>\n",
       "      <td>2017-12-02 00:02:35</td>\n",
       "      <td>0.0</td>\n",
       "      <td>Saturday</td>\n",
       "      <td>0</td>\n",
       "      <td>12</td>\n",
       "    </tr>\n",
       "    <tr>\n",
       "      <th>4</th>\n",
       "      <td>2987016</td>\n",
       "      <td>desktop</td>\n",
       "      <td>MacOS</td>\n",
       "      <td>0</td>\n",
       "      <td>86620</td>\n",
       "      <td>30.000</td>\n",
       "      <td>H</td>\n",
       "      <td>visa</td>\n",
       "      <td>debit</td>\n",
       "      <td>P_emaildomainOther</td>\n",
       "      <td>...</td>\n",
       "      <td>170.0</td>\n",
       "      <td>87.0</td>\n",
       "      <td>NaN</td>\n",
       "      <td>NaN</td>\n",
       "      <td>1</td>\n",
       "      <td>2017-12-02 00:03:40</td>\n",
       "      <td>-5.0</td>\n",
       "      <td>Saturday</td>\n",
       "      <td>0</td>\n",
       "      <td>12</td>\n",
       "    </tr>\n",
       "  </tbody>\n",
       "</table>\n",
       "<p>5 rows × 21 columns</p>\n",
       "</div>"
      ],
      "text/plain": [
       "   TransactionID DeviceType       DeviceInfo  isFraud  TransactionDT  \\\n",
       "0        2987004     mobile  DeviceInfoOther        0          86506   \n",
       "1        2987008     mobile       iOS Device        0          86535   \n",
       "2        2987010    desktop          Windows        0          86549   \n",
       "3        2987011    desktop              NaN        0          86555   \n",
       "4        2987016    desktop            MacOS        0          86620   \n",
       "\n",
       "   TransactionAmt ProductCD       card4   card6       P_emaildomain  ...  \\\n",
       "0          50.000         H  mastercard  credit           gmail.com  ...   \n",
       "1          15.000         H        visa   debit       anonymous.com  ...   \n",
       "2          75.887         C  mastercard  credit           gmail.com  ...   \n",
       "3          16.495         C  mastercard   debit         hotmail.com  ...   \n",
       "4          30.000         H        visa   debit  P_emaildomainOther  ...   \n",
       "\n",
       "   addr1  addr2  dist1  dist2  TransactionDTDayNumber   TransactionDTDate  \\\n",
       "0  420.0   87.0    NaN    NaN                       1 2017-12-02 00:01:46   \n",
       "1  337.0   87.0    NaN    NaN                       1 2017-12-02 00:02:15   \n",
       "2    NaN    NaN    NaN    NaN                       1 2017-12-02 00:02:29   \n",
       "3    NaN    NaN    NaN   30.0                       1 2017-12-02 00:02:35   \n",
       "4  170.0   87.0    NaN    NaN                       1 2017-12-02 00:03:40   \n",
       "\n",
       "  timeDelta  DayOfTheWeek hourOfDay  month  \n",
       "0      -8.0      Saturday         0     12  \n",
       "1      -5.0      Saturday         0     12  \n",
       "2       0.0      Saturday         0     12  \n",
       "3       0.0      Saturday         0     12  \n",
       "4      -5.0      Saturday         0     12  \n",
       "\n",
       "[5 rows x 21 columns]"
      ]
     },
     "execution_count": 457,
     "metadata": {},
     "output_type": "execute_result"
    }
   ],
   "source": [
    "#The column seems to denote time delta in seconds. So, we add a column denoting the time delta in number of days.\n",
    "totalDays = (df_c['TransactionDT'].max()-df_c['TransactionDT'].min())/86400\n",
    "#totalDays = 181.9 days\n",
    "#Marking day numbers for the transactions\n",
    "df_c['TransactionDTDayNumber'] = df_c['TransactionDT'].apply(lambda x: x/86400).astype(int)\n",
    "df_c.head()"
   ]
  },
  {
   "cell_type": "code",
   "execution_count": 477,
   "metadata": {
    "scrolled": false
   },
   "outputs": [
    {
     "data": {
      "text/plain": [
       "Text(0.5, 1.0, 'Frequency of Transactions VS TransactionDate')"
      ]
     },
     "execution_count": 477,
     "metadata": {},
     "output_type": "execute_result"
    },
    {
     "data": {
      "image/png": "[encoded data removed]",
      "text/plain": [
       "<Figure size 1440x576 with 1 Axes>"
      ]
     },
     "metadata": {},
     "output_type": "display_data"
    }
   ],
   "source": [
    "plt.figure(figsize=(20,8))\n",
    "daynumVStransaction = sbn.countplot(x=\"TransactionDTDayNumber\", data=df_c)\n",
    "for idx, label in enumerate(daynumVStransaction.get_xticklabels()):\n",
    "    if idx % 10 == 0:  # every 10th label is retained.\n",
    "        label.set_visible(True)\n",
    "    else:\n",
    "        label.set_visible(False)\n",
    "daynumVStransaction.set_title('Frequency of Transactions VS TransactionDate')"
   ]
  },
  {
   "cell_type": "markdown",
   "metadata": {},
   "source": [
    "There is a sudden spike in transactions on the 25th day. From the visualisation in cell _ below, there is a spike on \n",
    "day 390 in the test data as well. There is a gap of 31 days between the train and test data. This means, the test data starts\n",
    "one month after train data ends. Also, 390-25 = 365, which means they're exactly one year apart. Assuming these 2 days are \n",
    "Christmas,we fit this assumption and the start date comes to be December 1. I researched on kaggle to find similar assumptions and found one, where the year was taken as 2017. Referred from: https://kaggle.com/c/ieee-fraud-detection/discussion/100071#latest-604196"
   ]
  },
  {
   "cell_type": "markdown",
   "metadata": {},
   "source": [
    "Plot of count of fraudulent transactions vs Transaction day number."
   ]
  },
  {
   "cell_type": "code",
   "execution_count": 478,
   "metadata": {
    "scrolled": true
   },
   "outputs": [
    {
     "data": {
      "text/plain": [
       "Text(0.5, 1.0, 'Frequency of Fraudulent Transactions VS TransactionDate')"
      ]
     },
     "execution_count": 478,
     "metadata": {},
     "output_type": "execute_result"
    },
    {
     "data": {
      "image/png": "[encoded data removed]",
      "text/plain": [
       "<Figure size 1440x360 with 1 Axes>"
      ]
     },
     "metadata": {},
     "output_type": "display_data"
    }
   ],
   "source": [
    "plt.figure(figsize=(20,5))\n",
    "daynumVStransactionFraud = sbn.countplot(x=\"TransactionDTDayNumber\", data=df_c[df_c['isFraud']==1])\n",
    "for idx, label in enumerate(daynumVStransactionFraud.get_xticklabels()):\n",
    "    if idx % 10 == 0:  # every 10th label is kept\n",
    "        label.set_visible(True)\n",
    "    else:\n",
    "        label.set_visible(False)\n",
    "daynumVStransactionFraud.set_title('Frequency of Fraudulent Transactions VS TransactionDate')"
   ]
  },
  {
   "cell_type": "code",
   "execution_count": 480,
   "metadata": {},
   "outputs": [
    {
     "data": {
      "text/plain": [
       "Text(0.5, 1.0, 'Frequency of Non Fraudulent Transactions VS TransactionDate')"
      ]
     },
     "execution_count": 480,
     "metadata": {},
     "output_type": "execute_result"
    },
    {
     "data": {
      "image/png": "[encoded data removed]",
      "text/plain": [
       "<Figure size 1440x360 with 1 Axes>"
      ]
     },
     "metadata": {},
     "output_type": "display_data"
    }
   ],
   "source": [
    "plt.figure(figsize=(20,5))\n",
    "daynumVStransactionNFraud = sbn.countplot(x=\"TransactionDTDayNumber\", data=df_c[df_c['isFraud']==0])\n",
    "for idx, label in enumerate(daynumVStransactionNFraud.get_xticklabels()):\n",
    "    if idx % 10 == 0:  # every 10th label is kept\n",
    "        label.set_visible(True)\n",
    "    else:\n",
    "        label.set_visible(False)\n",
    "daynumVStransactionNFraud.set_title('Frequency of Non Fraudulent Transactions VS TransactionDate')"
   ]
  },
  {
   "cell_type": "code",
   "execution_count": 268,
   "metadata": {},
   "outputs": [
    {
     "name": "stdout",
     "output_type": "stream",
     "text": [
      "0   2017-12-02 00:01:46\n",
      "1   2017-12-02 00:02:15\n",
      "2   2017-12-02 00:02:29\n",
      "3   2017-12-02 00:02:35\n",
      "4   2017-12-02 00:03:40\n",
      "Name: TransactionDTDate, dtype: datetime64[ns]\n",
      "590535   2018-06-01 23:57:27\n",
      "590536   2018-06-01 23:57:29\n",
      "590537   2018-06-01 23:57:59\n",
      "590538   2018-06-01 23:58:08\n",
      "590539   2018-06-01 23:58:51\n",
      "Name: TransactionDTDate, dtype: datetime64[ns]\n"
     ]
    }
   ],
   "source": [
    "#Guessing start date to be Dec 1 2017, we find the date of every transaction.\n",
    "START_DATE = '2017-12-01'\n",
    "startdate = datetime.datetime.strptime(START_DATE, '%Y-%m-%d')\n",
    "df_c['TransactionDTDate'] = df_c['TransactionDT'].apply(lambda x: (startdate + datetime.timedelta(seconds = x)))\n",
    "\n",
    "print(df_c['TransactionDTDate'].head())\n",
    "print(df_c['TransactionDTDate'].tail())"
   ]
  },
  {
   "cell_type": "markdown",
   "metadata": {},
   "source": [
    "## Part 2 - Transaction Frequency"
   ]
  },
  {
   "cell_type": "markdown",
   "metadata": {},
   "source": [
    "From the above transaction date, we calculate the hour of day, month and day of the week. This data can be used to find \n",
    "correlations with isFraud during further analysis."
   ]
  },
  {
   "cell_type": "code",
   "execution_count": 380,
   "metadata": {
    "collapsed": true
   },
   "outputs": [
    {
     "data": {
      "text/html": [
       "<div>\n",
       "<style scoped>\n",
       "    .dataframe tbody tr th:only-of-type {\n",
       "        vertical-align: middle;\n",
       "    }\n",
       "\n",
       "    .dataframe tbody tr th {\n",
       "        vertical-align: top;\n",
       "    }\n",
       "\n",
       "    .dataframe thead th {\n",
       "        text-align: right;\n",
       "    }\n",
       "</style>\n",
       "<table border=\"1\" class=\"dataframe\">\n",
       "  <thead>\n",
       "    <tr style=\"text-align: right;\">\n",
       "      <th></th>\n",
       "      <th>TransactionID</th>\n",
       "      <th>DeviceType</th>\n",
       "      <th>DeviceInfo</th>\n",
       "      <th>isFraud</th>\n",
       "      <th>TransactionDT</th>\n",
       "      <th>TransactionAmt</th>\n",
       "      <th>ProductCD</th>\n",
       "      <th>card4</th>\n",
       "      <th>card6</th>\n",
       "      <th>P_emaildomain</th>\n",
       "      <th>...</th>\n",
       "      <th>addr1</th>\n",
       "      <th>addr2</th>\n",
       "      <th>dist1</th>\n",
       "      <th>dist2</th>\n",
       "      <th>TransactionDTDayNumber</th>\n",
       "      <th>TransactionDTDate</th>\n",
       "      <th>timeDelta</th>\n",
       "      <th>DayOfTheWeek</th>\n",
       "      <th>hourOfDay</th>\n",
       "      <th>month</th>\n",
       "    </tr>\n",
       "  </thead>\n",
       "  <tbody>\n",
       "    <tr>\n",
       "      <th>0</th>\n",
       "      <td>2987004</td>\n",
       "      <td>mobile</td>\n",
       "      <td>DeviceInfoOther</td>\n",
       "      <td>0</td>\n",
       "      <td>86506</td>\n",
       "      <td>50.000</td>\n",
       "      <td>H</td>\n",
       "      <td>mastercard</td>\n",
       "      <td>credit</td>\n",
       "      <td>gmail.com</td>\n",
       "      <td>...</td>\n",
       "      <td>420.0</td>\n",
       "      <td>87.0</td>\n",
       "      <td>NaN</td>\n",
       "      <td>NaN</td>\n",
       "      <td>1</td>\n",
       "      <td>2017-12-02 00:01:46</td>\n",
       "      <td>-8.0</td>\n",
       "      <td>Saturday</td>\n",
       "      <td>0</td>\n",
       "      <td>12</td>\n",
       "    </tr>\n",
       "    <tr>\n",
       "      <th>1</th>\n",
       "      <td>2987008</td>\n",
       "      <td>mobile</td>\n",
       "      <td>iOS Device</td>\n",
       "      <td>0</td>\n",
       "      <td>86535</td>\n",
       "      <td>15.000</td>\n",
       "      <td>H</td>\n",
       "      <td>visa</td>\n",
       "      <td>debit</td>\n",
       "      <td>anonymous.com</td>\n",
       "      <td>...</td>\n",
       "      <td>337.0</td>\n",
       "      <td>87.0</td>\n",
       "      <td>NaN</td>\n",
       "      <td>NaN</td>\n",
       "      <td>1</td>\n",
       "      <td>2017-12-02 00:02:15</td>\n",
       "      <td>-5.0</td>\n",
       "      <td>Saturday</td>\n",
       "      <td>0</td>\n",
       "      <td>12</td>\n",
       "    </tr>\n",
       "    <tr>\n",
       "      <th>2</th>\n",
       "      <td>2987010</td>\n",
       "      <td>desktop</td>\n",
       "      <td>Windows</td>\n",
       "      <td>0</td>\n",
       "      <td>86549</td>\n",
       "      <td>75.887</td>\n",
       "      <td>C</td>\n",
       "      <td>mastercard</td>\n",
       "      <td>credit</td>\n",
       "      <td>gmail.com</td>\n",
       "      <td>...</td>\n",
       "      <td>NaN</td>\n",
       "      <td>NaN</td>\n",
       "      <td>NaN</td>\n",
       "      <td>NaN</td>\n",
       "      <td>1</td>\n",
       "      <td>2017-12-02 00:02:29</td>\n",
       "      <td>0.0</td>\n",
       "      <td>Saturday</td>\n",
       "      <td>0</td>\n",
       "      <td>12</td>\n",
       "    </tr>\n",
       "    <tr>\n",
       "      <th>3</th>\n",
       "      <td>2987011</td>\n",
       "      <td>desktop</td>\n",
       "      <td>NaN</td>\n",
       "      <td>0</td>\n",
       "      <td>86555</td>\n",
       "      <td>16.495</td>\n",
       "      <td>C</td>\n",
       "      <td>mastercard</td>\n",
       "      <td>debit</td>\n",
       "      <td>hotmail.com</td>\n",
       "      <td>...</td>\n",
       "      <td>NaN</td>\n",
       "      <td>NaN</td>\n",
       "      <td>NaN</td>\n",
       "      <td>30.0</td>\n",
       "      <td>1</td>\n",
       "      <td>2017-12-02 00:02:35</td>\n",
       "      <td>0.0</td>\n",
       "      <td>Saturday</td>\n",
       "      <td>0</td>\n",
       "      <td>12</td>\n",
       "    </tr>\n",
       "    <tr>\n",
       "      <th>4</th>\n",
       "      <td>2987016</td>\n",
       "      <td>desktop</td>\n",
       "      <td>MacOS</td>\n",
       "      <td>0</td>\n",
       "      <td>86620</td>\n",
       "      <td>30.000</td>\n",
       "      <td>H</td>\n",
       "      <td>visa</td>\n",
       "      <td>debit</td>\n",
       "      <td>P_emaildomainOther</td>\n",
       "      <td>...</td>\n",
       "      <td>170.0</td>\n",
       "      <td>87.0</td>\n",
       "      <td>NaN</td>\n",
       "      <td>NaN</td>\n",
       "      <td>1</td>\n",
       "      <td>2017-12-02 00:03:40</td>\n",
       "      <td>-5.0</td>\n",
       "      <td>Saturday</td>\n",
       "      <td>0</td>\n",
       "      <td>12</td>\n",
       "    </tr>\n",
       "  </tbody>\n",
       "</table>\n",
       "<p>5 rows × 21 columns</p>\n",
       "</div>"
      ],
      "text/plain": [
       "   TransactionID DeviceType       DeviceInfo  isFraud  TransactionDT  \\\n",
       "0        2987004     mobile  DeviceInfoOther        0          86506   \n",
       "1        2987008     mobile       iOS Device        0          86535   \n",
       "2        2987010    desktop          Windows        0          86549   \n",
       "3        2987011    desktop              NaN        0          86555   \n",
       "4        2987016    desktop            MacOS        0          86620   \n",
       "\n",
       "   TransactionAmt ProductCD       card4   card6       P_emaildomain  ...  \\\n",
       "0          50.000         H  mastercard  credit           gmail.com  ...   \n",
       "1          15.000         H        visa   debit       anonymous.com  ...   \n",
       "2          75.887         C  mastercard  credit           gmail.com  ...   \n",
       "3          16.495         C  mastercard   debit         hotmail.com  ...   \n",
       "4          30.000         H        visa   debit  P_emaildomainOther  ...   \n",
       "\n",
       "   addr1  addr2  dist1  dist2  TransactionDTDayNumber   TransactionDTDate  \\\n",
       "0  420.0   87.0    NaN    NaN                       1 2017-12-02 00:01:46   \n",
       "1  337.0   87.0    NaN    NaN                       1 2017-12-02 00:02:15   \n",
       "2    NaN    NaN    NaN    NaN                       1 2017-12-02 00:02:29   \n",
       "3    NaN    NaN    NaN   30.0                       1 2017-12-02 00:02:35   \n",
       "4  170.0   87.0    NaN    NaN                       1 2017-12-02 00:03:40   \n",
       "\n",
       "  timeDelta  DayOfTheWeek hourOfDay  month  \n",
       "0      -8.0      Saturday         0     12  \n",
       "1      -5.0      Saturday         0     12  \n",
       "2       0.0      Saturday         0     12  \n",
       "3       0.0      Saturday         0     12  \n",
       "4      -5.0      Saturday         0     12  \n",
       "\n",
       "[5 rows x 21 columns]"
      ]
     },
     "execution_count": 380,
     "metadata": {},
     "output_type": "execute_result"
    }
   ],
   "source": [
    "#Finding day of the week\n",
    "df_c['DayOfTheWeek'] = df_c['TransactionDTDate'].dt.weekday_name\n",
    "df_c.head()"
   ]
  },
  {
   "cell_type": "code",
   "execution_count": 272,
   "metadata": {
    "collapsed": true
   },
   "outputs": [
    {
     "data": {
      "text/html": [
       "<div>\n",
       "<style scoped>\n",
       "    .dataframe tbody tr th:only-of-type {\n",
       "        vertical-align: middle;\n",
       "    }\n",
       "\n",
       "    .dataframe tbody tr th {\n",
       "        vertical-align: top;\n",
       "    }\n",
       "\n",
       "    .dataframe thead th {\n",
       "        text-align: right;\n",
       "    }\n",
       "</style>\n",
       "<table border=\"1\" class=\"dataframe\">\n",
       "  <thead>\n",
       "    <tr style=\"text-align: right;\">\n",
       "      <th></th>\n",
       "      <th>TransactionID</th>\n",
       "      <th>DeviceType</th>\n",
       "      <th>DeviceInfo</th>\n",
       "      <th>isFraud</th>\n",
       "      <th>TransactionDT</th>\n",
       "      <th>TransactionAmt</th>\n",
       "      <th>ProductCD</th>\n",
       "      <th>card4</th>\n",
       "      <th>card6</th>\n",
       "      <th>P_emaildomain</th>\n",
       "      <th>R_emaildomain</th>\n",
       "      <th>addr1</th>\n",
       "      <th>addr2</th>\n",
       "      <th>dist1</th>\n",
       "      <th>dist2</th>\n",
       "      <th>TransactionDTDayNumber</th>\n",
       "      <th>TransactionDTDate</th>\n",
       "      <th>timeDelta</th>\n",
       "      <th>DayOfTheWeek</th>\n",
       "      <th>hourOfDay</th>\n",
       "    </tr>\n",
       "  </thead>\n",
       "  <tbody>\n",
       "    <tr>\n",
       "      <th>0</th>\n",
       "      <td>2987004</td>\n",
       "      <td>mobile</td>\n",
       "      <td>DeviceInfoOther</td>\n",
       "      <td>0</td>\n",
       "      <td>86506</td>\n",
       "      <td>50.000</td>\n",
       "      <td>H</td>\n",
       "      <td>mastercard</td>\n",
       "      <td>credit</td>\n",
       "      <td>gmail.com</td>\n",
       "      <td>NaN</td>\n",
       "      <td>420.0</td>\n",
       "      <td>87.0</td>\n",
       "      <td>NaN</td>\n",
       "      <td>NaN</td>\n",
       "      <td>1</td>\n",
       "      <td>2017-12-02 00:01:46</td>\n",
       "      <td>-8.0</td>\n",
       "      <td>Saturday</td>\n",
       "      <td>0</td>\n",
       "    </tr>\n",
       "    <tr>\n",
       "      <th>1</th>\n",
       "      <td>2987008</td>\n",
       "      <td>mobile</td>\n",
       "      <td>iOS Device</td>\n",
       "      <td>0</td>\n",
       "      <td>86535</td>\n",
       "      <td>15.000</td>\n",
       "      <td>H</td>\n",
       "      <td>visa</td>\n",
       "      <td>debit</td>\n",
       "      <td>anonymous.com</td>\n",
       "      <td>NaN</td>\n",
       "      <td>337.0</td>\n",
       "      <td>87.0</td>\n",
       "      <td>NaN</td>\n",
       "      <td>NaN</td>\n",
       "      <td>1</td>\n",
       "      <td>2017-12-02 00:02:15</td>\n",
       "      <td>-5.0</td>\n",
       "      <td>Saturday</td>\n",
       "      <td>0</td>\n",
       "    </tr>\n",
       "    <tr>\n",
       "      <th>2</th>\n",
       "      <td>2987010</td>\n",
       "      <td>desktop</td>\n",
       "      <td>Windows</td>\n",
       "      <td>0</td>\n",
       "      <td>86549</td>\n",
       "      <td>75.887</td>\n",
       "      <td>C</td>\n",
       "      <td>mastercard</td>\n",
       "      <td>credit</td>\n",
       "      <td>gmail.com</td>\n",
       "      <td>gmail.com</td>\n",
       "      <td>NaN</td>\n",
       "      <td>NaN</td>\n",
       "      <td>NaN</td>\n",
       "      <td>NaN</td>\n",
       "      <td>1</td>\n",
       "      <td>2017-12-02 00:02:29</td>\n",
       "      <td>0.0</td>\n",
       "      <td>Saturday</td>\n",
       "      <td>0</td>\n",
       "    </tr>\n",
       "    <tr>\n",
       "      <th>3</th>\n",
       "      <td>2987011</td>\n",
       "      <td>desktop</td>\n",
       "      <td>NaN</td>\n",
       "      <td>0</td>\n",
       "      <td>86555</td>\n",
       "      <td>16.495</td>\n",
       "      <td>C</td>\n",
       "      <td>mastercard</td>\n",
       "      <td>debit</td>\n",
       "      <td>hotmail.com</td>\n",
       "      <td>hotmail.com</td>\n",
       "      <td>NaN</td>\n",
       "      <td>NaN</td>\n",
       "      <td>NaN</td>\n",
       "      <td>30.0</td>\n",
       "      <td>1</td>\n",
       "      <td>2017-12-02 00:02:35</td>\n",
       "      <td>0.0</td>\n",
       "      <td>Saturday</td>\n",
       "      <td>0</td>\n",
       "    </tr>\n",
       "    <tr>\n",
       "      <th>4</th>\n",
       "      <td>2987016</td>\n",
       "      <td>desktop</td>\n",
       "      <td>MacOS</td>\n",
       "      <td>0</td>\n",
       "      <td>86620</td>\n",
       "      <td>30.000</td>\n",
       "      <td>H</td>\n",
       "      <td>visa</td>\n",
       "      <td>debit</td>\n",
       "      <td>P_emaildomainOther</td>\n",
       "      <td>NaN</td>\n",
       "      <td>170.0</td>\n",
       "      <td>87.0</td>\n",
       "      <td>NaN</td>\n",
       "      <td>NaN</td>\n",
       "      <td>1</td>\n",
       "      <td>2017-12-02 00:03:40</td>\n",
       "      <td>-5.0</td>\n",
       "      <td>Saturday</td>\n",
       "      <td>0</td>\n",
       "    </tr>\n",
       "  </tbody>\n",
       "</table>\n",
       "</div>"
      ],
      "text/plain": [
       "   TransactionID DeviceType       DeviceInfo  isFraud  TransactionDT  \\\n",
       "0        2987004     mobile  DeviceInfoOther        0          86506   \n",
       "1        2987008     mobile       iOS Device        0          86535   \n",
       "2        2987010    desktop          Windows        0          86549   \n",
       "3        2987011    desktop              NaN        0          86555   \n",
       "4        2987016    desktop            MacOS        0          86620   \n",
       "\n",
       "   TransactionAmt ProductCD       card4   card6       P_emaildomain  \\\n",
       "0          50.000         H  mastercard  credit           gmail.com   \n",
       "1          15.000         H        visa   debit       anonymous.com   \n",
       "2          75.887         C  mastercard  credit           gmail.com   \n",
       "3          16.495         C  mastercard   debit         hotmail.com   \n",
       "4          30.000         H        visa   debit  P_emaildomainOther   \n",
       "\n",
       "  R_emaildomain  addr1  addr2  dist1  dist2  TransactionDTDayNumber  \\\n",
       "0           NaN  420.0   87.0    NaN    NaN                       1   \n",
       "1           NaN  337.0   87.0    NaN    NaN                       1   \n",
       "2     gmail.com    NaN    NaN    NaN    NaN                       1   \n",
       "3   hotmail.com    NaN    NaN    NaN   30.0                       1   \n",
       "4           NaN  170.0   87.0    NaN    NaN                       1   \n",
       "\n",
       "    TransactionDTDate  timeDelta DayOfTheWeek  hourOfDay  \n",
       "0 2017-12-02 00:01:46       -8.0     Saturday          0  \n",
       "1 2017-12-02 00:02:15       -5.0     Saturday          0  \n",
       "2 2017-12-02 00:02:29        0.0     Saturday          0  \n",
       "3 2017-12-02 00:02:35        0.0     Saturday          0  \n",
       "4 2017-12-02 00:03:40       -5.0     Saturday          0  "
      ]
     },
     "execution_count": 272,
     "metadata": {},
     "output_type": "execute_result"
    }
   ],
   "source": [
    "#Finding hour of day\n",
    "df_c['hourOfDay'] = df_c.TransactionDTDate.dt.hour\n",
    "df_c.head()\n",
    "#df_cumulative.tail()"
   ]
  },
  {
   "cell_type": "code",
   "execution_count": 273,
   "metadata": {
    "collapsed": true
   },
   "outputs": [
    {
     "data": {
      "text/html": [
       "<div>\n",
       "<style scoped>\n",
       "    .dataframe tbody tr th:only-of-type {\n",
       "        vertical-align: middle;\n",
       "    }\n",
       "\n",
       "    .dataframe tbody tr th {\n",
       "        vertical-align: top;\n",
       "    }\n",
       "\n",
       "    .dataframe thead th {\n",
       "        text-align: right;\n",
       "    }\n",
       "</style>\n",
       "<table border=\"1\" class=\"dataframe\">\n",
       "  <thead>\n",
       "    <tr style=\"text-align: right;\">\n",
       "      <th></th>\n",
       "      <th>TransactionID</th>\n",
       "      <th>DeviceType</th>\n",
       "      <th>DeviceInfo</th>\n",
       "      <th>isFraud</th>\n",
       "      <th>TransactionDT</th>\n",
       "      <th>TransactionAmt</th>\n",
       "      <th>ProductCD</th>\n",
       "      <th>card4</th>\n",
       "      <th>card6</th>\n",
       "      <th>P_emaildomain</th>\n",
       "      <th>...</th>\n",
       "      <th>addr1</th>\n",
       "      <th>addr2</th>\n",
       "      <th>dist1</th>\n",
       "      <th>dist2</th>\n",
       "      <th>TransactionDTDayNumber</th>\n",
       "      <th>TransactionDTDate</th>\n",
       "      <th>timeDelta</th>\n",
       "      <th>DayOfTheWeek</th>\n",
       "      <th>hourOfDay</th>\n",
       "      <th>month</th>\n",
       "    </tr>\n",
       "  </thead>\n",
       "  <tbody>\n",
       "    <tr>\n",
       "      <th>0</th>\n",
       "      <td>2987004</td>\n",
       "      <td>mobile</td>\n",
       "      <td>DeviceInfoOther</td>\n",
       "      <td>0</td>\n",
       "      <td>86506</td>\n",
       "      <td>50.000</td>\n",
       "      <td>H</td>\n",
       "      <td>mastercard</td>\n",
       "      <td>credit</td>\n",
       "      <td>gmail.com</td>\n",
       "      <td>...</td>\n",
       "      <td>420.0</td>\n",
       "      <td>87.0</td>\n",
       "      <td>NaN</td>\n",
       "      <td>NaN</td>\n",
       "      <td>1</td>\n",
       "      <td>2017-12-02 00:01:46</td>\n",
       "      <td>-8.0</td>\n",
       "      <td>Saturday</td>\n",
       "      <td>0</td>\n",
       "      <td>12</td>\n",
       "    </tr>\n",
       "    <tr>\n",
       "      <th>1</th>\n",
       "      <td>2987008</td>\n",
       "      <td>mobile</td>\n",
       "      <td>iOS Device</td>\n",
       "      <td>0</td>\n",
       "      <td>86535</td>\n",
       "      <td>15.000</td>\n",
       "      <td>H</td>\n",
       "      <td>visa</td>\n",
       "      <td>debit</td>\n",
       "      <td>anonymous.com</td>\n",
       "      <td>...</td>\n",
       "      <td>337.0</td>\n",
       "      <td>87.0</td>\n",
       "      <td>NaN</td>\n",
       "      <td>NaN</td>\n",
       "      <td>1</td>\n",
       "      <td>2017-12-02 00:02:15</td>\n",
       "      <td>-5.0</td>\n",
       "      <td>Saturday</td>\n",
       "      <td>0</td>\n",
       "      <td>12</td>\n",
       "    </tr>\n",
       "    <tr>\n",
       "      <th>2</th>\n",
       "      <td>2987010</td>\n",
       "      <td>desktop</td>\n",
       "      <td>Windows</td>\n",
       "      <td>0</td>\n",
       "      <td>86549</td>\n",
       "      <td>75.887</td>\n",
       "      <td>C</td>\n",
       "      <td>mastercard</td>\n",
       "      <td>credit</td>\n",
       "      <td>gmail.com</td>\n",
       "      <td>...</td>\n",
       "      <td>NaN</td>\n",
       "      <td>NaN</td>\n",
       "      <td>NaN</td>\n",
       "      <td>NaN</td>\n",
       "      <td>1</td>\n",
       "      <td>2017-12-02 00:02:29</td>\n",
       "      <td>0.0</td>\n",
       "      <td>Saturday</td>\n",
       "      <td>0</td>\n",
       "      <td>12</td>\n",
       "    </tr>\n",
       "    <tr>\n",
       "      <th>3</th>\n",
       "      <td>2987011</td>\n",
       "      <td>desktop</td>\n",
       "      <td>NaN</td>\n",
       "      <td>0</td>\n",
       "      <td>86555</td>\n",
       "      <td>16.495</td>\n",
       "      <td>C</td>\n",
       "      <td>mastercard</td>\n",
       "      <td>debit</td>\n",
       "      <td>hotmail.com</td>\n",
       "      <td>...</td>\n",
       "      <td>NaN</td>\n",
       "      <td>NaN</td>\n",
       "      <td>NaN</td>\n",
       "      <td>30.0</td>\n",
       "      <td>1</td>\n",
       "      <td>2017-12-02 00:02:35</td>\n",
       "      <td>0.0</td>\n",
       "      <td>Saturday</td>\n",
       "      <td>0</td>\n",
       "      <td>12</td>\n",
       "    </tr>\n",
       "    <tr>\n",
       "      <th>4</th>\n",
       "      <td>2987016</td>\n",
       "      <td>desktop</td>\n",
       "      <td>MacOS</td>\n",
       "      <td>0</td>\n",
       "      <td>86620</td>\n",
       "      <td>30.000</td>\n",
       "      <td>H</td>\n",
       "      <td>visa</td>\n",
       "      <td>debit</td>\n",
       "      <td>P_emaildomainOther</td>\n",
       "      <td>...</td>\n",
       "      <td>170.0</td>\n",
       "      <td>87.0</td>\n",
       "      <td>NaN</td>\n",
       "      <td>NaN</td>\n",
       "      <td>1</td>\n",
       "      <td>2017-12-02 00:03:40</td>\n",
       "      <td>-5.0</td>\n",
       "      <td>Saturday</td>\n",
       "      <td>0</td>\n",
       "      <td>12</td>\n",
       "    </tr>\n",
       "  </tbody>\n",
       "</table>\n",
       "<p>5 rows × 21 columns</p>\n",
       "</div>"
      ],
      "text/plain": [
       "   TransactionID DeviceType       DeviceInfo  isFraud  TransactionDT  \\\n",
       "0        2987004     mobile  DeviceInfoOther        0          86506   \n",
       "1        2987008     mobile       iOS Device        0          86535   \n",
       "2        2987010    desktop          Windows        0          86549   \n",
       "3        2987011    desktop              NaN        0          86555   \n",
       "4        2987016    desktop            MacOS        0          86620   \n",
       "\n",
       "   TransactionAmt ProductCD       card4   card6       P_emaildomain  ...  \\\n",
       "0          50.000         H  mastercard  credit           gmail.com  ...   \n",
       "1          15.000         H        visa   debit       anonymous.com  ...   \n",
       "2          75.887         C  mastercard  credit           gmail.com  ...   \n",
       "3          16.495         C  mastercard   debit         hotmail.com  ...   \n",
       "4          30.000         H        visa   debit  P_emaildomainOther  ...   \n",
       "\n",
       "   addr1  addr2  dist1  dist2  TransactionDTDayNumber   TransactionDTDate  \\\n",
       "0  420.0   87.0    NaN    NaN                       1 2017-12-02 00:01:46   \n",
       "1  337.0   87.0    NaN    NaN                       1 2017-12-02 00:02:15   \n",
       "2    NaN    NaN    NaN    NaN                       1 2017-12-02 00:02:29   \n",
       "3    NaN    NaN    NaN   30.0                       1 2017-12-02 00:02:35   \n",
       "4  170.0   87.0    NaN    NaN                       1 2017-12-02 00:03:40   \n",
       "\n",
       "  timeDelta  DayOfTheWeek hourOfDay  month  \n",
       "0      -8.0      Saturday         0     12  \n",
       "1      -5.0      Saturday         0     12  \n",
       "2       0.0      Saturday         0     12  \n",
       "3       0.0      Saturday         0     12  \n",
       "4      -5.0      Saturday         0     12  \n",
       "\n",
       "[5 rows x 21 columns]"
      ]
     },
     "execution_count": 273,
     "metadata": {},
     "output_type": "execute_result"
    }
   ],
   "source": [
    "#Finding month\n",
    "df_c['month'] = df_c.TransactionDTDate.dt.month\n",
    "df_c.head()\n",
    "#df_cumulative.tail()"
   ]
  },
  {
   "cell_type": "code",
   "execution_count": 459,
   "metadata": {},
   "outputs": [
    {
     "data": {
      "text/plain": [
       "87.0        956415\n",
       "unkaddr2    131315\n",
       "60.0          7125\n",
       "96.0          1246\n",
       "32.0           152\n",
       "65.0           131\n",
       "31.0            83\n",
       "16.0            77\n",
       "19.0            56\n",
       "69.0            44\n",
       "27.0            34\n",
       "26.0            32\n",
       "43.0            30\n",
       "57.0            29\n",
       "34.0            27\n",
       "98.0            26\n",
       "73.0            26\n",
       "102.0           21\n",
       "59.0            19\n",
       "54.0            16\n",
       "29.0            14\n",
       "68.0            13\n",
       "17.0            11\n",
       "10.0            11\n",
       "72.0            10\n",
       "71.0            10\n",
       "79.0             9\n",
       "78.0             9\n",
       "88.0             9\n",
       "36.0             9\n",
       "             ...  \n",
       "97.0             2\n",
       "76.0             2\n",
       "77.0             2\n",
       "81.0             2\n",
       "92.0             2\n",
       "90.0             2\n",
       "63.0             2\n",
       "91.0             1\n",
       "64.0             1\n",
       "11.0             1\n",
       "58.0             1\n",
       "50.0             1\n",
       "14.0             1\n",
       "15.0             1\n",
       "49.0             1\n",
       "75.0             1\n",
       "85.0             1\n",
       "99.0             1\n",
       "22.0             1\n",
       "33.0             1\n",
       "80.0             1\n",
       "25.0             1\n",
       "42.0             1\n",
       "83.0             1\n",
       "70.0             1\n",
       "37.0             1\n",
       "82.0             1\n",
       "35.0             1\n",
       "89.0             1\n",
       "55.0             1\n",
       "Name: addr2, Length: 94, dtype: int64"
      ]
     },
     "execution_count": 459,
     "metadata": {},
     "output_type": "execute_result"
    }
   ],
   "source": [
    "#We find the most frequent country code. Turns out its 87.\n",
    "df_cumulative['addr2'].value_counts()"
   ]
  },
  {
   "cell_type": "code",
   "execution_count": 481,
   "metadata": {},
   "outputs": [
    {
     "data": {
      "text/plain": [
       "Text(0.5, 1.0, 'Hour of Day VS Frequency of transactions')"
      ]
     },
     "execution_count": 481,
     "metadata": {},
     "output_type": "execute_result"
    },
    {
     "data": {
      "image/png": "[encoded data removed]",
      "text/plain": [
       "<Figure size 1440x360 with 1 Axes>"
      ]
     },
     "metadata": {},
     "output_type": "display_data"
    }
   ],
   "source": [
    "plt.figure(figsize=(20,5))\n",
    "hourofdayVStransactionfrequency = sbn.countplot(x=\"hourOfDay\", data=df_c[df_c['addr2']==87])\n",
    "hourofdayVStransactionfrequency.set_title('Hour of Day VS Frequency of transactions')"
   ]
  },
  {
   "cell_type": "markdown",
   "metadata": {},
   "source": [
    "In the graph, between hour 6 and hour 10, the transactions are the lowest. They most probably should be the sleeping hours in country 87. If we consider 8 am to 12pm to be the waking hours, we can map these timings approximately to 12 pm and 4 am in the reference time. The trend of transactions gradually increase from 12pm reference, as during the day, stay consistent for a period of time(which is presumably the evening) and reduce as the night hours increase. This also supports our observation. So, the country with code 87 is roughly 4 hours behind the reference time."
   ]
  },
  {
   "cell_type": "markdown",
   "metadata": {},
   "source": [
    "## Part 3 - Product Code"
   ]
  },
  {
   "cell_type": "markdown",
   "metadata": {},
   "source": [
    "To understand the distribution of transaction amount with product codes, we plot a boxplot first."
   ]
  },
  {
   "cell_type": "code",
   "execution_count": 275,
   "metadata": {},
   "outputs": [
    {
     "data": {
      "text/plain": [
       "<seaborn.axisgrid.FacetGrid at 0x1c1a9ec4f60>"
      ]
     },
     "execution_count": 275,
     "metadata": {},
     "output_type": "execute_result"
    },
    {
     "data": {
      "text/plain": [
       "<Figure size 2160x360 with 0 Axes>"
      ]
     },
     "metadata": {},
     "output_type": "display_data"
    },
    {
     "data": {
      "image/png": "[encoded data removed]",
      "text/plain": [
       "<Figure size 360x360 with 1 Axes>"
      ]
     },
     "metadata": {},
     "output_type": "display_data"
    }
   ],
   "source": [
    "# TODO: code to analyze prices for different product codes\n",
    "plt.figure(figsize=(30,5))\n",
    "productcodeVStransAmt = sbn.catplot(x='ProductCD',y='TransactionAmt',kind='box', data=df_c)\n",
    "productcodeVStransAmt "
   ]
  },
  {
   "cell_type": "markdown",
   "metadata": {},
   "source": [
    "Product code W seems to have outliers, so we check the number of records with abnormally high transaction amount."
   ]
  },
  {
   "cell_type": "code",
   "execution_count": 276,
   "metadata": {},
   "outputs": [
    {
     "data": {
      "text/html": [
       "<div>\n",
       "<style scoped>\n",
       "    .dataframe tbody tr th:only-of-type {\n",
       "        vertical-align: middle;\n",
       "    }\n",
       "\n",
       "    .dataframe tbody tr th {\n",
       "        vertical-align: top;\n",
       "    }\n",
       "\n",
       "    .dataframe thead th {\n",
       "        text-align: right;\n",
       "    }\n",
       "</style>\n",
       "<table border=\"1\" class=\"dataframe\">\n",
       "  <thead>\n",
       "    <tr style=\"text-align: right;\">\n",
       "      <th></th>\n",
       "      <th>TransactionID</th>\n",
       "      <th>DeviceType</th>\n",
       "      <th>DeviceInfo</th>\n",
       "      <th>isFraud</th>\n",
       "      <th>TransactionDT</th>\n",
       "      <th>TransactionAmt</th>\n",
       "      <th>ProductCD</th>\n",
       "      <th>card4</th>\n",
       "      <th>card6</th>\n",
       "      <th>P_emaildomain</th>\n",
       "      <th>...</th>\n",
       "      <th>addr1</th>\n",
       "      <th>addr2</th>\n",
       "      <th>dist1</th>\n",
       "      <th>dist2</th>\n",
       "      <th>TransactionDTDayNumber</th>\n",
       "      <th>TransactionDTDate</th>\n",
       "      <th>timeDelta</th>\n",
       "      <th>DayOfTheWeek</th>\n",
       "      <th>hourOfDay</th>\n",
       "      <th>month</th>\n",
       "    </tr>\n",
       "  </thead>\n",
       "  <tbody>\n",
       "    <tr>\n",
       "      <th>334577</th>\n",
       "      <td>3261336</td>\n",
       "      <td>NaN</td>\n",
       "      <td>NaN</td>\n",
       "      <td>0</td>\n",
       "      <td>6652360</td>\n",
       "      <td>31937.391</td>\n",
       "      <td>W</td>\n",
       "      <td>mastercard</td>\n",
       "      <td>credit</td>\n",
       "      <td>yahoo.com</td>\n",
       "      <td>...</td>\n",
       "      <td>205.0</td>\n",
       "      <td>87.0</td>\n",
       "      <td>27.0</td>\n",
       "      <td>NaN</td>\n",
       "      <td>76</td>\n",
       "      <td>2018-02-15 23:52:40</td>\n",
       "      <td>0.0</td>\n",
       "      <td>Thursday</td>\n",
       "      <td>23</td>\n",
       "      <td>2</td>\n",
       "    </tr>\n",
       "    <tr>\n",
       "      <th>334579</th>\n",
       "      <td>3261339</td>\n",
       "      <td>NaN</td>\n",
       "      <td>NaN</td>\n",
       "      <td>0</td>\n",
       "      <td>6652391</td>\n",
       "      <td>31937.391</td>\n",
       "      <td>W</td>\n",
       "      <td>mastercard</td>\n",
       "      <td>credit</td>\n",
       "      <td>yahoo.com</td>\n",
       "      <td>...</td>\n",
       "      <td>205.0</td>\n",
       "      <td>87.0</td>\n",
       "      <td>27.0</td>\n",
       "      <td>NaN</td>\n",
       "      <td>76</td>\n",
       "      <td>2018-02-15 23:53:11</td>\n",
       "      <td>0.0</td>\n",
       "      <td>Thursday</td>\n",
       "      <td>23</td>\n",
       "      <td>2</td>\n",
       "    </tr>\n",
       "  </tbody>\n",
       "</table>\n",
       "<p>2 rows × 21 columns</p>\n",
       "</div>"
      ],
      "text/plain": [
       "        TransactionID DeviceType DeviceInfo  isFraud  TransactionDT  \\\n",
       "334577        3261336        NaN        NaN        0        6652360   \n",
       "334579        3261339        NaN        NaN        0        6652391   \n",
       "\n",
       "        TransactionAmt ProductCD       card4   card6 P_emaildomain  ...  \\\n",
       "334577       31937.391         W  mastercard  credit     yahoo.com  ...   \n",
       "334579       31937.391         W  mastercard  credit     yahoo.com  ...   \n",
       "\n",
       "        addr1  addr2  dist1  dist2  TransactionDTDayNumber  \\\n",
       "334577  205.0   87.0   27.0    NaN                      76   \n",
       "334579  205.0   87.0   27.0    NaN                      76   \n",
       "\n",
       "         TransactionDTDate timeDelta  DayOfTheWeek hourOfDay  month  \n",
       "334577 2018-02-15 23:52:40       0.0      Thursday        23      2  \n",
       "334579 2018-02-15 23:53:11       0.0      Thursday        23      2  \n",
       "\n",
       "[2 rows x 21 columns]"
      ]
     },
     "execution_count": 276,
     "metadata": {},
     "output_type": "execute_result"
    }
   ],
   "source": [
    "#Only 2 rows with transaction amount > 10000, both correspond to product code W.\n",
    "df_c[df_c['TransactionAmt']>10000]"
   ]
  },
  {
   "cell_type": "code",
   "execution_count": 483,
   "metadata": {},
   "outputs": [
    {
     "data": {
      "text/plain": [
       "<seaborn.axisgrid.FacetGrid at 0x1c1a99b0748>"
      ]
     },
     "execution_count": 483,
     "metadata": {},
     "output_type": "execute_result"
    },
    {
     "data": {
      "text/plain": [
       "<Figure size 2160x1080 with 0 Axes>"
      ]
     },
     "metadata": {},
     "output_type": "display_data"
    },
    {
     "data": {
      "image/png": "[encoded data removed]",
      "text/plain": [
       "<Figure size 1440x720 with 1 Axes>"
      ]
     },
     "metadata": {},
     "output_type": "display_data"
    }
   ],
   "source": [
    "#We visualise the data distributions of transaction amounts < 10000.\n",
    "df_c_below10k = df_c[df_c['TransactionAmt']<10000]\n",
    "plt.figure(figsize=(30,15))\n",
    "productcodeVStransAmt10k = sbn.catplot(x='TransactionAmt',y='ProductCD',kind='box', data=df_c_below10k, height=10, aspect=2)\n",
    "productcodeVStransAmt10k"
   ]
  },
  {
   "cell_type": "markdown",
   "metadata": {},
   "source": [
    "Product code W has a lot of high amount transactions, but the 25th, 50th, 75th percentile of R product code are higher \n",
    "than that of W. We now examine the mean transaction amount of each product code."
   ]
  },
  {
   "cell_type": "code",
   "execution_count": 131,
   "metadata": {},
   "outputs": [
    {
     "name": "stdout",
     "output_type": "stream",
     "text": [
      "W -  153.15855385223293\n",
      "H -  73.17005813953489\n",
      "C -  42.87235311373386\n",
      "S -  60.269487444100434\n",
      "R -  168.30618849306347\n"
     ]
    }
   ],
   "source": [
    "print(\"W - \",df_c[df_c['ProductCD']=='W']['TransactionAmt'].mean())\n",
    "print(\"H - \",df_c[df_c['ProductCD']=='H']['TransactionAmt'].mean())\n",
    "print(\"C - \",df_c[df_c['ProductCD']=='C']['TransactionAmt'].mean())\n",
    "print(\"S - \",df_c[df_c['ProductCD']=='S']['TransactionAmt'].mean())\n",
    "print(\"R - \",df_c[df_c['ProductCD']=='R']['TransactionAmt'].mean())\n",
    "\n",
    "\n",
    "#Max is R and min is C"
   ]
  },
  {
   "cell_type": "markdown",
   "metadata": {},
   "source": [
    "R is the product code that refers to the most expensive products and C refers to the least expensive products."
   ]
  },
  {
   "cell_type": "markdown",
   "metadata": {},
   "source": [
    "## Part 4 - Correlation Coefficient"
   ]
  },
  {
   "cell_type": "markdown",
   "metadata": {},
   "source": [
    "We now plot the bar graph between the time of day (hour of day in this case) and avg transaction amount."
   ]
  },
  {
   "cell_type": "code",
   "execution_count": 218,
   "metadata": {
    "collapsed": true
   },
   "outputs": [
    {
     "data": {
      "text/plain": [
       "19    42115\n",
       "20    41782\n",
       "21    41641\n",
       "18    41639\n",
       "22    41139\n",
       "17    40723\n",
       "23    39949\n",
       "16    38698\n",
       "0     37795\n",
       "15    33859\n",
       "1     32797\n",
       "14    28328\n",
       "2     26732\n",
       "3     20802\n",
       "13    20315\n",
       "4     14839\n",
       "12    12451\n",
       "5      9701\n",
       "11     6827\n",
       "6      6007\n",
       "7      3704\n",
       "10     3627\n",
       "8      2591\n",
       "9      2479\n",
       "Name: hourOfDay, dtype: int64"
      ]
     },
     "execution_count": 218,
     "metadata": {},
     "output_type": "execute_result"
    }
   ],
   "source": [
    "df_c['hourOfDay'].value_counts()"
   ]
  },
  {
   "cell_type": "code",
   "execution_count": 484,
   "metadata": {},
   "outputs": [
    {
     "data": {
      "text/plain": [
       "Text(0.5, 1.0, 'Time of day VS transaction Amt')"
      ]
     },
     "execution_count": 484,
     "metadata": {},
     "output_type": "execute_result"
    },
    {
     "data": {
      "image/png": "[encoded data removed]",
      "text/plain": [
       "<Figure size 1440x360 with 1 Axes>"
      ]
     },
     "metadata": {},
     "output_type": "display_data"
    }
   ],
   "source": [
    "# TODO: code to calculate correlation coefficient\n",
    "# Plot purchase amount mean VS hour of day\n",
    "plt.figure(figsize=(20,5))\n",
    "Plot_purchaseAmtVShourOfDay = sbn.barplot(x=\"hourOfDay\", y=\"TransactionAmt\", data=df_c)\n",
    "Plot_purchaseAmtVShourOfDay.set_title('Time of day VS transaction Amt')"
   ]
  },
  {
   "cell_type": "code",
   "execution_count": 220,
   "metadata": {
    "scrolled": true
   },
   "outputs": [
    {
     "data": {
      "text/plain": [
       "0.0445323560306529"
      ]
     },
     "execution_count": 220,
     "metadata": {},
     "output_type": "execute_result"
    }
   ],
   "source": [
    "# Calculatine correlation coefficient between hour of day and transaction amount.\n",
    "df_c['hourOfDay'].corr(df_c['TransactionAmt'])"
   ]
  },
  {
   "cell_type": "code",
   "execution_count": 490,
   "metadata": {},
   "outputs": [
    {
     "data": {
      "text/html": [
       "<div>\n",
       "<style scoped>\n",
       "    .dataframe tbody tr th:only-of-type {\n",
       "        vertical-align: middle;\n",
       "    }\n",
       "\n",
       "    .dataframe tbody tr th {\n",
       "        vertical-align: top;\n",
       "    }\n",
       "\n",
       "    .dataframe thead th {\n",
       "        text-align: right;\n",
       "    }\n",
       "</style>\n",
       "<table border=\"1\" class=\"dataframe\">\n",
       "  <thead>\n",
       "    <tr style=\"text-align: right;\">\n",
       "      <th></th>\n",
       "      <th>TransactionID</th>\n",
       "      <th>isFraud</th>\n",
       "      <th>TransactionDT</th>\n",
       "      <th>TransactionAmt</th>\n",
       "      <th>addr1</th>\n",
       "      <th>addr2</th>\n",
       "      <th>dist1</th>\n",
       "      <th>dist2</th>\n",
       "      <th>TransactionDTDayNumber</th>\n",
       "      <th>timeDelta</th>\n",
       "      <th>hourOfDay</th>\n",
       "      <th>month</th>\n",
       "    </tr>\n",
       "  </thead>\n",
       "  <tbody>\n",
       "    <tr>\n",
       "      <th>TransactionID</th>\n",
       "      <td>1.000000</td>\n",
       "      <td>0.014166</td>\n",
       "      <td>0.998280</td>\n",
       "      <td>0.012025</td>\n",
       "      <td>-0.000370</td>\n",
       "      <td>0.057213</td>\n",
       "      <td>-0.027043</td>\n",
       "      <td>-0.026273</td>\n",
       "      <td>0.998267</td>\n",
       "      <td>0.184272</td>\n",
       "      <td>0.011143</td>\n",
       "      <td>-0.480064</td>\n",
       "    </tr>\n",
       "    <tr>\n",
       "      <th>isFraud</th>\n",
       "      <td>0.014166</td>\n",
       "      <td>1.000000</td>\n",
       "      <td>0.013103</td>\n",
       "      <td>0.011320</td>\n",
       "      <td>0.005596</td>\n",
       "      <td>-0.030387</td>\n",
       "      <td>0.021522</td>\n",
       "      <td>-0.019054</td>\n",
       "      <td>0.013182</td>\n",
       "      <td>-0.013445</td>\n",
       "      <td>-0.013112</td>\n",
       "      <td>-0.030548</td>\n",
       "    </tr>\n",
       "    <tr>\n",
       "      <th>TransactionDT</th>\n",
       "      <td>0.998280</td>\n",
       "      <td>0.013103</td>\n",
       "      <td>1.000000</td>\n",
       "      <td>0.011920</td>\n",
       "      <td>-0.000051</td>\n",
       "      <td>0.051972</td>\n",
       "      <td>-0.027295</td>\n",
       "      <td>-0.026860</td>\n",
       "      <td>0.999982</td>\n",
       "      <td>0.177724</td>\n",
       "      <td>0.011873</td>\n",
       "      <td>-0.442921</td>\n",
       "    </tr>\n",
       "    <tr>\n",
       "      <th>TransactionAmt</th>\n",
       "      <td>0.012025</td>\n",
       "      <td>0.011320</td>\n",
       "      <td>0.011920</td>\n",
       "      <td>1.000000</td>\n",
       "      <td>-0.007421</td>\n",
       "      <td>0.028312</td>\n",
       "      <td>0.026146</td>\n",
       "      <td>0.023143</td>\n",
       "      <td>0.011656</td>\n",
       "      <td>0.034764</td>\n",
       "      <td>0.044532</td>\n",
       "      <td>-0.013892</td>\n",
       "    </tr>\n",
       "    <tr>\n",
       "      <th>addr1</th>\n",
       "      <td>-0.000370</td>\n",
       "      <td>0.005596</td>\n",
       "      <td>-0.000051</td>\n",
       "      <td>-0.007421</td>\n",
       "      <td>1.000000</td>\n",
       "      <td>-0.002765</td>\n",
       "      <td>-0.001212</td>\n",
       "      <td>0.004686</td>\n",
       "      <td>-0.000026</td>\n",
       "      <td>-0.030774</td>\n",
       "      <td>-0.004346</td>\n",
       "      <td>0.004438</td>\n",
       "    </tr>\n",
       "    <tr>\n",
       "      <th>addr2</th>\n",
       "      <td>0.057213</td>\n",
       "      <td>-0.030387</td>\n",
       "      <td>0.051972</td>\n",
       "      <td>0.028312</td>\n",
       "      <td>-0.002765</td>\n",
       "      <td>1.000000</td>\n",
       "      <td>-0.038691</td>\n",
       "      <td>0.010227</td>\n",
       "      <td>0.051968</td>\n",
       "      <td>-0.032230</td>\n",
       "      <td>0.001335</td>\n",
       "      <td>-0.076707</td>\n",
       "    </tr>\n",
       "    <tr>\n",
       "      <th>dist1</th>\n",
       "      <td>-0.027043</td>\n",
       "      <td>0.021522</td>\n",
       "      <td>-0.027295</td>\n",
       "      <td>0.026146</td>\n",
       "      <td>-0.001212</td>\n",
       "      <td>-0.038691</td>\n",
       "      <td>1.000000</td>\n",
       "      <td>NaN</td>\n",
       "      <td>-0.027343</td>\n",
       "      <td>NaN</td>\n",
       "      <td>0.008005</td>\n",
       "      <td>-0.003960</td>\n",
       "    </tr>\n",
       "    <tr>\n",
       "      <th>dist2</th>\n",
       "      <td>-0.026273</td>\n",
       "      <td>-0.019054</td>\n",
       "      <td>-0.026860</td>\n",
       "      <td>0.023143</td>\n",
       "      <td>0.004686</td>\n",
       "      <td>0.010227</td>\n",
       "      <td>NaN</td>\n",
       "      <td>1.000000</td>\n",
       "      <td>-0.026911</td>\n",
       "      <td>0.001183</td>\n",
       "      <td>0.007650</td>\n",
       "      <td>-0.005746</td>\n",
       "    </tr>\n",
       "    <tr>\n",
       "      <th>TransactionDTDayNumber</th>\n",
       "      <td>0.998267</td>\n",
       "      <td>0.013182</td>\n",
       "      <td>0.999982</td>\n",
       "      <td>0.011656</td>\n",
       "      <td>-0.000026</td>\n",
       "      <td>0.051968</td>\n",
       "      <td>-0.027343</td>\n",
       "      <td>-0.026911</td>\n",
       "      <td>1.000000</td>\n",
       "      <td>0.177781</td>\n",
       "      <td>0.005937</td>\n",
       "      <td>-0.442949</td>\n",
       "    </tr>\n",
       "    <tr>\n",
       "      <th>timeDelta</th>\n",
       "      <td>0.184272</td>\n",
       "      <td>-0.013445</td>\n",
       "      <td>0.177724</td>\n",
       "      <td>0.034764</td>\n",
       "      <td>-0.030774</td>\n",
       "      <td>-0.032230</td>\n",
       "      <td>NaN</td>\n",
       "      <td>0.001183</td>\n",
       "      <td>0.177781</td>\n",
       "      <td>1.000000</td>\n",
       "      <td>-0.008147</td>\n",
       "      <td>-0.268482</td>\n",
       "    </tr>\n",
       "    <tr>\n",
       "      <th>hourOfDay</th>\n",
       "      <td>0.011143</td>\n",
       "      <td>-0.013112</td>\n",
       "      <td>0.011873</td>\n",
       "      <td>0.044532</td>\n",
       "      <td>-0.004346</td>\n",
       "      <td>0.001335</td>\n",
       "      <td>0.008005</td>\n",
       "      <td>0.007650</td>\n",
       "      <td>0.005937</td>\n",
       "      <td>-0.008147</td>\n",
       "      <td>1.000000</td>\n",
       "      <td>0.000844</td>\n",
       "    </tr>\n",
       "    <tr>\n",
       "      <th>month</th>\n",
       "      <td>-0.480064</td>\n",
       "      <td>-0.030548</td>\n",
       "      <td>-0.442921</td>\n",
       "      <td>-0.013892</td>\n",
       "      <td>0.004438</td>\n",
       "      <td>-0.076707</td>\n",
       "      <td>-0.003960</td>\n",
       "      <td>-0.005746</td>\n",
       "      <td>-0.442949</td>\n",
       "      <td>-0.268482</td>\n",
       "      <td>0.000844</td>\n",
       "      <td>1.000000</td>\n",
       "    </tr>\n",
       "  </tbody>\n",
       "</table>\n",
       "</div>"
      ],
      "text/plain": [
       "                        TransactionID   isFraud  TransactionDT  \\\n",
       "TransactionID                1.000000  0.014166       0.998280   \n",
       "isFraud                      0.014166  1.000000       0.013103   \n",
       "TransactionDT                0.998280  0.013103       1.000000   \n",
       "TransactionAmt               0.012025  0.011320       0.011920   \n",
       "addr1                       -0.000370  0.005596      -0.000051   \n",
       "addr2                        0.057213 -0.030387       0.051972   \n",
       "dist1                       -0.027043  0.021522      -0.027295   \n",
       "dist2                       -0.026273 -0.019054      -0.026860   \n",
       "TransactionDTDayNumber       0.998267  0.013182       0.999982   \n",
       "timeDelta                    0.184272 -0.013445       0.177724   \n",
       "hourOfDay                    0.011143 -0.013112       0.011873   \n",
       "month                       -0.480064 -0.030548      -0.442921   \n",
       "\n",
       "                        TransactionAmt     addr1     addr2     dist1  \\\n",
       "TransactionID                 0.012025 -0.000370  0.057213 -0.027043   \n",
       "isFraud                       0.011320  0.005596 -0.030387  0.021522   \n",
       "TransactionDT                 0.011920 -0.000051  0.051972 -0.027295   \n",
       "TransactionAmt                1.000000 -0.007421  0.028312  0.026146   \n",
       "addr1                        -0.007421  1.000000 -0.002765 -0.001212   \n",
       "addr2                         0.028312 -0.002765  1.000000 -0.038691   \n",
       "dist1                         0.026146 -0.001212 -0.038691  1.000000   \n",
       "dist2                         0.023143  0.004686  0.010227       NaN   \n",
       "TransactionDTDayNumber        0.011656 -0.000026  0.051968 -0.027343   \n",
       "timeDelta                     0.034764 -0.030774 -0.032230       NaN   \n",
       "hourOfDay                     0.044532 -0.004346  0.001335  0.008005   \n",
       "month                        -0.013892  0.004438 -0.076707 -0.003960   \n",
       "\n",
       "                           dist2  TransactionDTDayNumber  timeDelta  \\\n",
       "TransactionID          -0.026273                0.998267   0.184272   \n",
       "isFraud                -0.019054                0.013182  -0.013445   \n",
       "TransactionDT          -0.026860                0.999982   0.177724   \n",
       "TransactionAmt          0.023143                0.011656   0.034764   \n",
       "addr1                   0.004686               -0.000026  -0.030774   \n",
       "addr2                   0.010227                0.051968  -0.032230   \n",
       "dist1                        NaN               -0.027343        NaN   \n",
       "dist2                   1.000000               -0.026911   0.001183   \n",
       "TransactionDTDayNumber -0.026911                1.000000   0.177781   \n",
       "timeDelta               0.001183                0.177781   1.000000   \n",
       "hourOfDay               0.007650                0.005937  -0.008147   \n",
       "month                  -0.005746               -0.442949  -0.268482   \n",
       "\n",
       "                        hourOfDay     month  \n",
       "TransactionID            0.011143 -0.480064  \n",
       "isFraud                 -0.013112 -0.030548  \n",
       "TransactionDT            0.011873 -0.442921  \n",
       "TransactionAmt           0.044532 -0.013892  \n",
       "addr1                   -0.004346  0.004438  \n",
       "addr2                    0.001335 -0.076707  \n",
       "dist1                    0.008005 -0.003960  \n",
       "dist2                    0.007650 -0.005746  \n",
       "TransactionDTDayNumber   0.005937 -0.442949  \n",
       "timeDelta               -0.008147 -0.268482  \n",
       "hourOfDay                1.000000  0.000844  \n",
       "month                    0.000844  1.000000  "
      ]
     },
     "execution_count": 490,
     "metadata": {},
     "output_type": "execute_result"
    }
   ],
   "source": [
    "df_c.corr()"
   ]
  },
  {
   "cell_type": "markdown",
   "metadata": {},
   "source": [
    "The correlation is 0.045."
   ]
  },
  {
   "cell_type": "markdown",
   "metadata": {},
   "source": [
    "## Part 5 - Interesting Plot"
   ]
  },
  {
   "cell_type": "code",
   "execution_count": 485,
   "metadata": {},
   "outputs": [
    {
     "data": {
      "text/plain": [
       "Text(0.5, 1.0, 'Frequency of fraudulent transactions VS Transaction date')"
      ]
     },
     "execution_count": 485,
     "metadata": {},
     "output_type": "execute_result"
    },
    {
     "data": {
      "image/png": "[encoded data removed]",
      "text/plain": [
       "<Figure size 1440x360 with 1 Axes>"
      ]
     },
     "metadata": {},
     "output_type": "display_data"
    }
   ],
   "source": [
    "# TODO: code to generate the plot here.\n",
    "plt.figure(figsize=(20,5))\n",
    "daynumVStransactionFraud = sbn.countplot(x=\"TransactionDTDayNumber\", data=df_c[df_c['isFraud']==1])\n",
    "for idx, label in enumerate(daynumVStransactionFraud.get_xticklabels()):\n",
    "    if idx % 10 == 0:  # every 10th label is kept\n",
    "        label.set_visible(True)\n",
    "    else:\n",
    "        label.set_visible(False)\n",
    "daynumVStransactionFraud.set_title('Frequency of fraudulent transactions VS Transaction date')"
   ]
  },
  {
   "cell_type": "markdown",
   "metadata": {},
   "source": [
    "The fraudulent transactions take a sudden noticeable spike on day 64. 64 days after Dec 1 is Feb 3 2018. \n",
    "Upon researching on the internet, I found that Feb 8 2013 was the day Dow Jones Index crashed 665 points, making it the worst \n",
    "in two years. Referred from: [Link](https://theweek.com/10things/750984/10-things-need-know-today-february-3-2018). So, a large\n",
    "number of fraudulent transactions(mostly of smaller value) may be done on that day in the form of selling shares in anticipation of the decline in prices."
   ]
  },
  {
   "cell_type": "markdown",
   "metadata": {},
   "source": [
    "## Part 6 - Prediction Model"
   ]
  },
  {
   "cell_type": "markdown",
   "metadata": {},
   "source": [
    "For building the prediction model, we merge train and test data and perform preprocessing."
   ]
  },
  {
   "cell_type": "code",
   "execution_count": 286,
   "metadata": {},
   "outputs": [
    {
     "data": {
      "text/html": [
       "<div>\n",
       "<style scoped>\n",
       "    .dataframe tbody tr th:only-of-type {\n",
       "        vertical-align: middle;\n",
       "    }\n",
       "\n",
       "    .dataframe tbody tr th {\n",
       "        vertical-align: top;\n",
       "    }\n",
       "\n",
       "    .dataframe thead th {\n",
       "        text-align: right;\n",
       "    }\n",
       "</style>\n",
       "<table border=\"1\" class=\"dataframe\">\n",
       "  <thead>\n",
       "    <tr style=\"text-align: right;\">\n",
       "      <th></th>\n",
       "      <th>TransactionID</th>\n",
       "      <th>DeviceType</th>\n",
       "      <th>DeviceInfo</th>\n",
       "      <th>isFraud</th>\n",
       "      <th>TransactionDT</th>\n",
       "      <th>TransactionAmt</th>\n",
       "      <th>ProductCD</th>\n",
       "      <th>card4</th>\n",
       "      <th>card6</th>\n",
       "      <th>P_emaildomain</th>\n",
       "      <th>R_emaildomain</th>\n",
       "      <th>addr1</th>\n",
       "      <th>addr2</th>\n",
       "      <th>dist1</th>\n",
       "      <th>dist2</th>\n",
       "    </tr>\n",
       "  </thead>\n",
       "  <tbody>\n",
       "    <tr>\n",
       "      <th>0</th>\n",
       "      <td>2987004</td>\n",
       "      <td>mobile</td>\n",
       "      <td>SAMSUNG SM-G892A Build/NRD90M</td>\n",
       "      <td>0</td>\n",
       "      <td>86506</td>\n",
       "      <td>50.000</td>\n",
       "      <td>H</td>\n",
       "      <td>mastercard</td>\n",
       "      <td>credit</td>\n",
       "      <td>gmail.com</td>\n",
       "      <td>NaN</td>\n",
       "      <td>420.0</td>\n",
       "      <td>87.0</td>\n",
       "      <td>NaN</td>\n",
       "      <td>NaN</td>\n",
       "    </tr>\n",
       "    <tr>\n",
       "      <th>1</th>\n",
       "      <td>2987008</td>\n",
       "      <td>mobile</td>\n",
       "      <td>iOS Device</td>\n",
       "      <td>0</td>\n",
       "      <td>86535</td>\n",
       "      <td>15.000</td>\n",
       "      <td>H</td>\n",
       "      <td>visa</td>\n",
       "      <td>debit</td>\n",
       "      <td>anonymous.com</td>\n",
       "      <td>NaN</td>\n",
       "      <td>337.0</td>\n",
       "      <td>87.0</td>\n",
       "      <td>NaN</td>\n",
       "      <td>NaN</td>\n",
       "    </tr>\n",
       "    <tr>\n",
       "      <th>2</th>\n",
       "      <td>2987010</td>\n",
       "      <td>desktop</td>\n",
       "      <td>Windows</td>\n",
       "      <td>0</td>\n",
       "      <td>86549</td>\n",
       "      <td>75.887</td>\n",
       "      <td>C</td>\n",
       "      <td>mastercard</td>\n",
       "      <td>credit</td>\n",
       "      <td>gmail.com</td>\n",
       "      <td>gmail.com</td>\n",
       "      <td>NaN</td>\n",
       "      <td>NaN</td>\n",
       "      <td>NaN</td>\n",
       "      <td>NaN</td>\n",
       "    </tr>\n",
       "    <tr>\n",
       "      <th>3</th>\n",
       "      <td>2987011</td>\n",
       "      <td>desktop</td>\n",
       "      <td>NaN</td>\n",
       "      <td>0</td>\n",
       "      <td>86555</td>\n",
       "      <td>16.495</td>\n",
       "      <td>C</td>\n",
       "      <td>mastercard</td>\n",
       "      <td>debit</td>\n",
       "      <td>hotmail.com</td>\n",
       "      <td>hotmail.com</td>\n",
       "      <td>NaN</td>\n",
       "      <td>NaN</td>\n",
       "      <td>NaN</td>\n",
       "      <td>30.0</td>\n",
       "    </tr>\n",
       "    <tr>\n",
       "      <th>4</th>\n",
       "      <td>2987016</td>\n",
       "      <td>desktop</td>\n",
       "      <td>MacOS</td>\n",
       "      <td>0</td>\n",
       "      <td>86620</td>\n",
       "      <td>30.000</td>\n",
       "      <td>H</td>\n",
       "      <td>visa</td>\n",
       "      <td>debit</td>\n",
       "      <td>aol.com</td>\n",
       "      <td>NaN</td>\n",
       "      <td>170.0</td>\n",
       "      <td>87.0</td>\n",
       "      <td>NaN</td>\n",
       "      <td>NaN</td>\n",
       "    </tr>\n",
       "  </tbody>\n",
       "</table>\n",
       "</div>"
      ],
      "text/plain": [
       "   TransactionID DeviceType                     DeviceInfo  isFraud  \\\n",
       "0        2987004     mobile  SAMSUNG SM-G892A Build/NRD90M        0   \n",
       "1        2987008     mobile                     iOS Device        0   \n",
       "2        2987010    desktop                        Windows        0   \n",
       "3        2987011    desktop                            NaN        0   \n",
       "4        2987016    desktop                          MacOS        0   \n",
       "\n",
       "   TransactionDT  TransactionAmt ProductCD       card4   card6  P_emaildomain  \\\n",
       "0          86506          50.000         H  mastercard  credit      gmail.com   \n",
       "1          86535          15.000         H        visa   debit  anonymous.com   \n",
       "2          86549          75.887         C  mastercard  credit      gmail.com   \n",
       "3          86555          16.495         C  mastercard   debit    hotmail.com   \n",
       "4          86620          30.000         H        visa   debit        aol.com   \n",
       "\n",
       "  R_emaildomain  addr1  addr2  dist1  dist2  \n",
       "0           NaN  420.0   87.0    NaN    NaN  \n",
       "1           NaN  337.0   87.0    NaN    NaN  \n",
       "2     gmail.com    NaN    NaN    NaN    NaN  \n",
       "3   hotmail.com    NaN    NaN    NaN   30.0  \n",
       "4           NaN  170.0   87.0    NaN    NaN  "
      ]
     },
     "execution_count": 286,
     "metadata": {},
     "output_type": "execute_result"
    }
   ],
   "source": [
    "# TODO: code for your final model\n",
    "#Outer join on both transaction and identity tables of train data\n",
    "c_copy = pd.merge(df_train_idsel, df_train_transsel, on='TransactionID', how='outer')\n",
    "c_copy.head()"
   ]
  },
  {
   "cell_type": "code",
   "execution_count": 287,
   "metadata": {},
   "outputs": [
    {
     "data": {
      "text/plain": [
       "(590540, 14)"
      ]
     },
     "execution_count": 287,
     "metadata": {},
     "output_type": "execute_result"
    }
   ],
   "source": [
    "Xtrain = c_copy.drop(['isFraud'], axis=1)\n",
    "Xtrain.shape"
   ]
  },
  {
   "cell_type": "code",
   "execution_count": 289,
   "metadata": {},
   "outputs": [
    {
     "data": {
      "text/plain": [
       "(590540,)"
      ]
     },
     "execution_count": 289,
     "metadata": {},
     "output_type": "execute_result"
    }
   ],
   "source": [
    "Ytrain = c_copy['isFraud']\n",
    "Ytrain.shape"
   ]
  },
  {
   "cell_type": "code",
   "execution_count": 293,
   "metadata": {},
   "outputs": [
    {
     "data": {
      "text/html": [
       "<div>\n",
       "<style scoped>\n",
       "    .dataframe tbody tr th:only-of-type {\n",
       "        vertical-align: middle;\n",
       "    }\n",
       "\n",
       "    .dataframe tbody tr th {\n",
       "        vertical-align: top;\n",
       "    }\n",
       "\n",
       "    .dataframe thead th {\n",
       "        text-align: right;\n",
       "    }\n",
       "</style>\n",
       "<table border=\"1\" class=\"dataframe\">\n",
       "  <thead>\n",
       "    <tr style=\"text-align: right;\">\n",
       "      <th></th>\n",
       "      <th>TransactionID</th>\n",
       "      <th>DeviceType</th>\n",
       "      <th>DeviceInfo</th>\n",
       "    </tr>\n",
       "  </thead>\n",
       "  <tbody>\n",
       "    <tr>\n",
       "      <th>0</th>\n",
       "      <td>3663586</td>\n",
       "      <td>mobile</td>\n",
       "      <td>MYA-L13 Build/HUAWEIMYA-L13</td>\n",
       "    </tr>\n",
       "    <tr>\n",
       "      <th>1</th>\n",
       "      <td>3663588</td>\n",
       "      <td>mobile</td>\n",
       "      <td>LGLS676 Build/MXB48T</td>\n",
       "    </tr>\n",
       "    <tr>\n",
       "      <th>2</th>\n",
       "      <td>3663597</td>\n",
       "      <td>desktop</td>\n",
       "      <td>Trident/7.0</td>\n",
       "    </tr>\n",
       "    <tr>\n",
       "      <th>3</th>\n",
       "      <td>3663601</td>\n",
       "      <td>mobile</td>\n",
       "      <td>MYA-L13 Build/HUAWEIMYA-L13</td>\n",
       "    </tr>\n",
       "    <tr>\n",
       "      <th>4</th>\n",
       "      <td>3663602</td>\n",
       "      <td>mobile</td>\n",
       "      <td>SM-G9650 Build/R16NW</td>\n",
       "    </tr>\n",
       "  </tbody>\n",
       "</table>\n",
       "</div>"
      ],
      "text/plain": [
       "   TransactionID DeviceType                   DeviceInfo\n",
       "0        3663586     mobile  MYA-L13 Build/HUAWEIMYA-L13\n",
       "1        3663588     mobile         LGLS676 Build/MXB48T\n",
       "2        3663597    desktop                  Trident/7.0\n",
       "3        3663601     mobile  MYA-L13 Build/HUAWEIMYA-L13\n",
       "4        3663602     mobile         SM-G9650 Build/R16NW"
      ]
     },
     "execution_count": 293,
     "metadata": {},
     "output_type": "execute_result"
    }
   ],
   "source": [
    "#Import test data\n",
    "#take necessary columns from identity table of test data\n",
    "df_test_id = pd.read_csv(\"C:/Users/sneha/Downloads/Homeworks/DSF/test_identity.csv\")\n",
    "df_test_idsel = df_test_id[['TransactionID','DeviceType','DeviceInfo']]\n",
    "df_test_idsel.head()"
   ]
  },
  {
   "cell_type": "code",
   "execution_count": 294,
   "metadata": {},
   "outputs": [
    {
     "data": {
      "text/plain": [
       "(141907, 3)"
      ]
     },
     "execution_count": 294,
     "metadata": {},
     "output_type": "execute_result"
    }
   ],
   "source": [
    "df_test_idsel.shape"
   ]
  },
  {
   "cell_type": "code",
   "execution_count": 295,
   "metadata": {},
   "outputs": [
    {
     "data": {
      "text/plain": [
       "(506691, 12)"
      ]
     },
     "execution_count": 295,
     "metadata": {},
     "output_type": "execute_result"
    }
   ],
   "source": [
    "#take necessary columns from transaction table of test data\n",
    "df_test_trans = pd.read_csv(\"C:/Users/sneha/Downloads/Homeworks/DSF/test_transaction.csv\") \n",
    "df_test_transsel = df_test_trans[['TransactionID','TransactionDT','TransactionAmt','ProductCD','card4','card6','P_emaildomain','R_emaildomain',\n",
    "'addr1','addr2','dist1','dist2']]\n",
    "df_test_transsel.shape"
   ]
  },
  {
   "cell_type": "code",
   "execution_count": 296,
   "metadata": {},
   "outputs": [
    {
     "data": {
      "text/plain": [
       "(506691, 14)"
      ]
     },
     "execution_count": 296,
     "metadata": {},
     "output_type": "execute_result"
    }
   ],
   "source": [
    "#Outer join on both transaction and identity tables of test data\n",
    "c1 = pd.merge(df_test_idsel, df_test_transsel, on='TransactionID', how='outer')\n",
    "c1.head()\n",
    "c1.shape"
   ]
  },
  {
   "cell_type": "code",
   "execution_count": 460,
   "metadata": {},
   "outputs": [
    {
     "data": {
      "text/html": [
       "<div>\n",
       "<style scoped>\n",
       "    .dataframe tbody tr th:only-of-type {\n",
       "        vertical-align: middle;\n",
       "    }\n",
       "\n",
       "    .dataframe tbody tr th {\n",
       "        vertical-align: top;\n",
       "    }\n",
       "\n",
       "    .dataframe thead th {\n",
       "        text-align: right;\n",
       "    }\n",
       "</style>\n",
       "<table border=\"1\" class=\"dataframe\">\n",
       "  <thead>\n",
       "    <tr style=\"text-align: right;\">\n",
       "      <th></th>\n",
       "      <th>TransactionID</th>\n",
       "      <th>DeviceType</th>\n",
       "      <th>DeviceInfo</th>\n",
       "      <th>TransactionDT</th>\n",
       "      <th>TransactionAmt</th>\n",
       "      <th>ProductCD</th>\n",
       "      <th>card4</th>\n",
       "      <th>card6</th>\n",
       "      <th>P_emaildomain</th>\n",
       "      <th>R_emaildomain</th>\n",
       "      <th>addr1</th>\n",
       "      <th>addr2</th>\n",
       "      <th>dist1</th>\n",
       "      <th>dist2</th>\n",
       "      <th>TransactionDTDayNumber</th>\n",
       "    </tr>\n",
       "  </thead>\n",
       "  <tbody>\n",
       "    <tr>\n",
       "      <th>0</th>\n",
       "      <td>3663586</td>\n",
       "      <td>mobile</td>\n",
       "      <td>MYA-L13 Build/HUAWEIMYA-L13</td>\n",
       "      <td>18404013</td>\n",
       "      <td>6.271</td>\n",
       "      <td>C</td>\n",
       "      <td>visa</td>\n",
       "      <td>debit</td>\n",
       "      <td>hotmail.com</td>\n",
       "      <td>hotmail.com</td>\n",
       "      <td>NaN</td>\n",
       "      <td>NaN</td>\n",
       "      <td>NaN</td>\n",
       "      <td>NaN</td>\n",
       "      <td>213</td>\n",
       "    </tr>\n",
       "    <tr>\n",
       "      <th>1</th>\n",
       "      <td>3663588</td>\n",
       "      <td>mobile</td>\n",
       "      <td>LGLS676 Build/MXB48T</td>\n",
       "      <td>18404055</td>\n",
       "      <td>50.000</td>\n",
       "      <td>S</td>\n",
       "      <td>american express</td>\n",
       "      <td>credit</td>\n",
       "      <td>NaN</td>\n",
       "      <td>gmail.com</td>\n",
       "      <td>494.0</td>\n",
       "      <td>87.0</td>\n",
       "      <td>NaN</td>\n",
       "      <td>37.0</td>\n",
       "      <td>213</td>\n",
       "    </tr>\n",
       "    <tr>\n",
       "      <th>2</th>\n",
       "      <td>3663597</td>\n",
       "      <td>desktop</td>\n",
       "      <td>Trident/7.0</td>\n",
       "      <td>18404235</td>\n",
       "      <td>37.318</td>\n",
       "      <td>C</td>\n",
       "      <td>visa</td>\n",
       "      <td>debit</td>\n",
       "      <td>anonymous.com</td>\n",
       "      <td>anonymous.com</td>\n",
       "      <td>NaN</td>\n",
       "      <td>NaN</td>\n",
       "      <td>NaN</td>\n",
       "      <td>NaN</td>\n",
       "      <td>213</td>\n",
       "    </tr>\n",
       "    <tr>\n",
       "      <th>3</th>\n",
       "      <td>3663601</td>\n",
       "      <td>mobile</td>\n",
       "      <td>MYA-L13 Build/HUAWEIMYA-L13</td>\n",
       "      <td>18404315</td>\n",
       "      <td>6.271</td>\n",
       "      <td>C</td>\n",
       "      <td>visa</td>\n",
       "      <td>debit</td>\n",
       "      <td>hotmail.com</td>\n",
       "      <td>hotmail.com</td>\n",
       "      <td>NaN</td>\n",
       "      <td>NaN</td>\n",
       "      <td>NaN</td>\n",
       "      <td>NaN</td>\n",
       "      <td>213</td>\n",
       "    </tr>\n",
       "    <tr>\n",
       "      <th>4</th>\n",
       "      <td>3663602</td>\n",
       "      <td>mobile</td>\n",
       "      <td>SM-G9650 Build/R16NW</td>\n",
       "      <td>18404359</td>\n",
       "      <td>52.258</td>\n",
       "      <td>C</td>\n",
       "      <td>visa</td>\n",
       "      <td>debit</td>\n",
       "      <td>hotmail.com</td>\n",
       "      <td>hotmail.com</td>\n",
       "      <td>NaN</td>\n",
       "      <td>NaN</td>\n",
       "      <td>NaN</td>\n",
       "      <td>NaN</td>\n",
       "      <td>213</td>\n",
       "    </tr>\n",
       "  </tbody>\n",
       "</table>\n",
       "</div>"
      ],
      "text/plain": [
       "   TransactionID DeviceType                   DeviceInfo  TransactionDT  \\\n",
       "0        3663586     mobile  MYA-L13 Build/HUAWEIMYA-L13       18404013   \n",
       "1        3663588     mobile         LGLS676 Build/MXB48T       18404055   \n",
       "2        3663597    desktop                  Trident/7.0       18404235   \n",
       "3        3663601     mobile  MYA-L13 Build/HUAWEIMYA-L13       18404315   \n",
       "4        3663602     mobile         SM-G9650 Build/R16NW       18404359   \n",
       "\n",
       "   TransactionAmt ProductCD             card4   card6  P_emaildomain  \\\n",
       "0           6.271         C              visa   debit    hotmail.com   \n",
       "1          50.000         S  american express  credit            NaN   \n",
       "2          37.318         C              visa   debit  anonymous.com   \n",
       "3           6.271         C              visa   debit    hotmail.com   \n",
       "4          52.258         C              visa   debit    hotmail.com   \n",
       "\n",
       "   R_emaildomain  addr1  addr2  dist1  dist2  TransactionDTDayNumber  \n",
       "0    hotmail.com    NaN    NaN    NaN    NaN                     213  \n",
       "1      gmail.com  494.0   87.0    NaN   37.0                     213  \n",
       "2  anonymous.com    NaN    NaN    NaN    NaN                     213  \n",
       "3    hotmail.com    NaN    NaN    NaN    NaN                     213  \n",
       "4    hotmail.com    NaN    NaN    NaN    NaN                     213  "
      ]
     },
     "execution_count": 460,
     "metadata": {},
     "output_type": "execute_result"
    }
   ],
   "source": [
    "#Pre processing on the TransactionDT column\n",
    "df_c2 = df_c1.copy()\n",
    "totalDays = (df_c2['TransactionDT'].max()-df_c2['TransactionDT'].min())/86400\n",
    "#totalDays = 181.9 days\n",
    "#Marking day numbers for the transactions\n",
    "df_c2['TransactionDTDayNumber'] = df_c2['TransactionDT'].apply(lambda x: x/86400).astype(int)\n",
    "df_c2.head()"
   ]
  },
  {
   "cell_type": "markdown",
   "metadata": {},
   "source": [
    "Distribution of transactions with TransactionDate. Spike on day 390. Used this previously in the analysis to support \n",
    "the choice of dec 1 2017 as start date."
   ]
  },
  {
   "cell_type": "code",
   "execution_count": 486,
   "metadata": {},
   "outputs": [
    {
     "data": {
      "text/plain": [
       "Text(0.5, 1.0, 'Frequency of transactions VS Transaction date')"
      ]
     },
     "execution_count": 486,
     "metadata": {},
     "output_type": "execute_result"
    },
    {
     "data": {
      "image/png": "[encoded data removed]",
      "text/plain": [
       "<Figure size 1440x360 with 1 Axes>"
      ]
     },
     "metadata": {},
     "output_type": "display_data"
    }
   ],
   "source": [
    "plt.figure(figsize=(20,5))\n",
    "daynumVStransaction = sbn.countplot(x=\"TransactionDTDayNumber\", data=df_c2)\n",
    "for idx, label in enumerate(daynumVStransaction.get_xticklabels()):\n",
    "    if idx % 10 == 0:  # every 10th label is kept\n",
    "        label.set_visible(True)\n",
    "    else:\n",
    "        label.set_visible(False)\n",
    "daynumVStransaction.set_title('Frequency of transactions VS Transaction date')"
   ]
  },
  {
   "cell_type": "code",
   "execution_count": 297,
   "metadata": {},
   "outputs": [
    {
     "data": {
      "text/plain": [
       "(506691, 14)"
      ]
     },
     "execution_count": 297,
     "metadata": {},
     "output_type": "execute_result"
    }
   ],
   "source": [
    "Xtest = c1\n",
    "Xtest.shape"
   ]
  },
  {
   "cell_type": "code",
   "execution_count": 298,
   "metadata": {},
   "outputs": [
    {
     "data": {
      "text/plain": [
       "(1097231, 14)"
      ]
     },
     "execution_count": 298,
     "metadata": {},
     "output_type": "execute_result"
    }
   ],
   "source": [
    "#append Xtrain and Xtest into a new dataframe called df_cumulative\n",
    "df_cumulative = Xtrain.append(Xtest)\n",
    "df_cumulative.shape"
   ]
  },
  {
   "cell_type": "markdown",
   "metadata": {},
   "source": [
    "Preprocessing on date column"
   ]
  },
  {
   "cell_type": "code",
   "execution_count": 300,
   "metadata": {},
   "outputs": [
    {
     "data": {
      "text/plain": [
       "394.99936342592594"
      ]
     },
     "execution_count": 300,
     "metadata": {},
     "output_type": "execute_result"
    }
   ],
   "source": [
    "# Preprocessing for date column\n",
    "totalDays = (df_cumulative['TransactionDT'].max()-df_cumulative['TransactionDT'].min())/86400\n",
    "totalDays"
   ]
  },
  {
   "cell_type": "code",
   "execution_count": 461,
   "metadata": {},
   "outputs": [
    {
     "data": {
      "text/html": [
       "<div>\n",
       "<style scoped>\n",
       "    .dataframe tbody tr th:only-of-type {\n",
       "        vertical-align: middle;\n",
       "    }\n",
       "\n",
       "    .dataframe tbody tr th {\n",
       "        vertical-align: top;\n",
       "    }\n",
       "\n",
       "    .dataframe thead th {\n",
       "        text-align: right;\n",
       "    }\n",
       "</style>\n",
       "<table border=\"1\" class=\"dataframe\">\n",
       "  <thead>\n",
       "    <tr style=\"text-align: right;\">\n",
       "      <th></th>\n",
       "      <th>TransactionID</th>\n",
       "      <th>DeviceType</th>\n",
       "      <th>DeviceInfo</th>\n",
       "      <th>TransactionDT</th>\n",
       "      <th>TransactionAmt</th>\n",
       "      <th>ProductCD</th>\n",
       "      <th>card4</th>\n",
       "      <th>card6</th>\n",
       "      <th>P_emaildomain</th>\n",
       "      <th>R_emaildomain</th>\n",
       "      <th>addr1</th>\n",
       "      <th>addr2</th>\n",
       "      <th>dist1</th>\n",
       "      <th>dist2</th>\n",
       "      <th>TransactionDTDayNumber</th>\n",
       "      <th>TransactionDTDate</th>\n",
       "      <th>DayOfTheWeek</th>\n",
       "      <th>hourOfDay</th>\n",
       "    </tr>\n",
       "  </thead>\n",
       "  <tbody>\n",
       "    <tr>\n",
       "      <th>0</th>\n",
       "      <td>2987004</td>\n",
       "      <td>mobile</td>\n",
       "      <td>DeviceInfoOther</td>\n",
       "      <td>86506</td>\n",
       "      <td>50.000</td>\n",
       "      <td>H</td>\n",
       "      <td>mastercard</td>\n",
       "      <td>credit</td>\n",
       "      <td>gmail.com</td>\n",
       "      <td>unkRemail</td>\n",
       "      <td>420</td>\n",
       "      <td>87</td>\n",
       "      <td>NaN</td>\n",
       "      <td>NaN</td>\n",
       "      <td>1</td>\n",
       "      <td>2017-12-02 00:01:46</td>\n",
       "      <td>Saturday</td>\n",
       "      <td>0</td>\n",
       "    </tr>\n",
       "    <tr>\n",
       "      <th>1</th>\n",
       "      <td>2987008</td>\n",
       "      <td>mobile</td>\n",
       "      <td>DeviceInfoOther</td>\n",
       "      <td>86535</td>\n",
       "      <td>15.000</td>\n",
       "      <td>H</td>\n",
       "      <td>visa</td>\n",
       "      <td>debit</td>\n",
       "      <td>anonymous.com</td>\n",
       "      <td>unkRemail</td>\n",
       "      <td>337</td>\n",
       "      <td>87</td>\n",
       "      <td>NaN</td>\n",
       "      <td>NaN</td>\n",
       "      <td>1</td>\n",
       "      <td>2017-12-02 00:02:15</td>\n",
       "      <td>Saturday</td>\n",
       "      <td>0</td>\n",
       "    </tr>\n",
       "    <tr>\n",
       "      <th>2</th>\n",
       "      <td>2987010</td>\n",
       "      <td>desktop</td>\n",
       "      <td>Windows</td>\n",
       "      <td>86549</td>\n",
       "      <td>75.887</td>\n",
       "      <td>C</td>\n",
       "      <td>mastercard</td>\n",
       "      <td>credit</td>\n",
       "      <td>gmail.com</td>\n",
       "      <td>gmail.com</td>\n",
       "      <td>unkaddr1</td>\n",
       "      <td>unkaddr2</td>\n",
       "      <td>NaN</td>\n",
       "      <td>NaN</td>\n",
       "      <td>1</td>\n",
       "      <td>2017-12-02 00:02:29</td>\n",
       "      <td>Saturday</td>\n",
       "      <td>0</td>\n",
       "    </tr>\n",
       "    <tr>\n",
       "      <th>3</th>\n",
       "      <td>2987011</td>\n",
       "      <td>desktop</td>\n",
       "      <td>unkDeviceInfo</td>\n",
       "      <td>86555</td>\n",
       "      <td>16.495</td>\n",
       "      <td>C</td>\n",
       "      <td>mastercard</td>\n",
       "      <td>debit</td>\n",
       "      <td>hotmail.com</td>\n",
       "      <td>R_emaildomainOther</td>\n",
       "      <td>unkaddr1</td>\n",
       "      <td>unkaddr2</td>\n",
       "      <td>NaN</td>\n",
       "      <td>30.0</td>\n",
       "      <td>1</td>\n",
       "      <td>2017-12-02 00:02:35</td>\n",
       "      <td>Saturday</td>\n",
       "      <td>0</td>\n",
       "    </tr>\n",
       "    <tr>\n",
       "      <th>4</th>\n",
       "      <td>2987016</td>\n",
       "      <td>desktop</td>\n",
       "      <td>DeviceInfoOther</td>\n",
       "      <td>86620</td>\n",
       "      <td>30.000</td>\n",
       "      <td>H</td>\n",
       "      <td>visa</td>\n",
       "      <td>debit</td>\n",
       "      <td>P_emaildomainOther</td>\n",
       "      <td>unkRemail</td>\n",
       "      <td>170</td>\n",
       "      <td>87</td>\n",
       "      <td>NaN</td>\n",
       "      <td>NaN</td>\n",
       "      <td>1</td>\n",
       "      <td>2017-12-02 00:03:40</td>\n",
       "      <td>Saturday</td>\n",
       "      <td>0</td>\n",
       "    </tr>\n",
       "  </tbody>\n",
       "</table>\n",
       "</div>"
      ],
      "text/plain": [
       "   TransactionID DeviceType       DeviceInfo  TransactionDT  TransactionAmt  \\\n",
       "0        2987004     mobile  DeviceInfoOther          86506          50.000   \n",
       "1        2987008     mobile  DeviceInfoOther          86535          15.000   \n",
       "2        2987010    desktop          Windows          86549          75.887   \n",
       "3        2987011    desktop    unkDeviceInfo          86555          16.495   \n",
       "4        2987016    desktop  DeviceInfoOther          86620          30.000   \n",
       "\n",
       "  ProductCD       card4   card6       P_emaildomain       R_emaildomain  \\\n",
       "0         H  mastercard  credit           gmail.com           unkRemail   \n",
       "1         H        visa   debit       anonymous.com           unkRemail   \n",
       "2         C  mastercard  credit           gmail.com           gmail.com   \n",
       "3         C  mastercard   debit         hotmail.com  R_emaildomainOther   \n",
       "4         H        visa   debit  P_emaildomainOther           unkRemail   \n",
       "\n",
       "      addr1     addr2  dist1  dist2  TransactionDTDayNumber  \\\n",
       "0       420        87    NaN    NaN                       1   \n",
       "1       337        87    NaN    NaN                       1   \n",
       "2  unkaddr1  unkaddr2    NaN    NaN                       1   \n",
       "3  unkaddr1  unkaddr2    NaN   30.0                       1   \n",
       "4       170        87    NaN    NaN                       1   \n",
       "\n",
       "    TransactionDTDate DayOfTheWeek  hourOfDay  \n",
       "0 2017-12-02 00:01:46     Saturday          0  \n",
       "1 2017-12-02 00:02:15     Saturday          0  \n",
       "2 2017-12-02 00:02:29     Saturday          0  \n",
       "3 2017-12-02 00:02:35     Saturday          0  \n",
       "4 2017-12-02 00:03:40     Saturday          0  "
      ]
     },
     "execution_count": 461,
     "metadata": {},
     "output_type": "execute_result"
    }
   ],
   "source": [
    "#Marking day numbers for the transactions\n",
    "df_cumulative['TransactionDTDayNumber'] = df_cumulative['TransactionDT'].apply(lambda x: x/86400).astype(int)\n",
    "df_cumulative.head()"
   ]
  },
  {
   "cell_type": "code",
   "execution_count": 303,
   "metadata": {},
   "outputs": [
    {
     "name": "stdout",
     "output_type": "stream",
     "text": [
      "0   2017-12-02 00:01:46\n",
      "1   2017-12-02 00:02:15\n",
      "2   2017-12-02 00:02:29\n",
      "3   2017-12-02 00:02:35\n",
      "4   2017-12-02 00:03:40\n",
      "Name: TransactionDTDate, dtype: datetime64[ns]\n",
      "506686   2018-12-31 23:57:41\n",
      "506687   2018-12-31 23:57:49\n",
      "506688   2018-12-31 23:57:59\n",
      "506689   2018-12-31 23:58:46\n",
      "506690   2018-12-31 23:58:57\n",
      "Name: TransactionDTDate, dtype: datetime64[ns]\n"
     ]
    }
   ],
   "source": [
    "#Guessing start date to be Dec 1 2017, we find the date of every transaction.\n",
    "START_DATE = '2017-12-01'\n",
    "startdate = datetime.datetime.strptime(START_DATE, '%Y-%m-%d')\n",
    "df_cumulative['TransactionDTDate'] = df_cumulative['TransactionDT'].apply(lambda x: (startdate + datetime.timedelta(seconds = x)))\n",
    "\n",
    "print(df_cumulative['TransactionDTDate'].head())\n",
    "print(df_cumulative['TransactionDTDate'].tail())"
   ]
  },
  {
   "cell_type": "code",
   "execution_count": 304,
   "metadata": {
    "scrolled": true
   },
   "outputs": [
    {
     "data": {
      "text/html": [
       "<div>\n",
       "<style scoped>\n",
       "    .dataframe tbody tr th:only-of-type {\n",
       "        vertical-align: middle;\n",
       "    }\n",
       "\n",
       "    .dataframe tbody tr th {\n",
       "        vertical-align: top;\n",
       "    }\n",
       "\n",
       "    .dataframe thead th {\n",
       "        text-align: right;\n",
       "    }\n",
       "</style>\n",
       "<table border=\"1\" class=\"dataframe\">\n",
       "  <thead>\n",
       "    <tr style=\"text-align: right;\">\n",
       "      <th></th>\n",
       "      <th>TransactionID</th>\n",
       "      <th>DeviceType</th>\n",
       "      <th>DeviceInfo</th>\n",
       "      <th>TransactionDT</th>\n",
       "      <th>TransactionAmt</th>\n",
       "      <th>ProductCD</th>\n",
       "      <th>card4</th>\n",
       "      <th>card6</th>\n",
       "      <th>P_emaildomain</th>\n",
       "      <th>R_emaildomain</th>\n",
       "      <th>addr1</th>\n",
       "      <th>addr2</th>\n",
       "      <th>dist1</th>\n",
       "      <th>dist2</th>\n",
       "      <th>TransactionDTDayNumber</th>\n",
       "      <th>TransactionDTDate</th>\n",
       "      <th>DayOfTheWeek</th>\n",
       "    </tr>\n",
       "  </thead>\n",
       "  <tbody>\n",
       "    <tr>\n",
       "      <th>0</th>\n",
       "      <td>2987004</td>\n",
       "      <td>mobile</td>\n",
       "      <td>SAMSUNG SM-G892A Build/NRD90M</td>\n",
       "      <td>86506</td>\n",
       "      <td>50.000</td>\n",
       "      <td>H</td>\n",
       "      <td>mastercard</td>\n",
       "      <td>credit</td>\n",
       "      <td>gmail.com</td>\n",
       "      <td>NaN</td>\n",
       "      <td>420.0</td>\n",
       "      <td>87.0</td>\n",
       "      <td>NaN</td>\n",
       "      <td>NaN</td>\n",
       "      <td>1</td>\n",
       "      <td>2017-12-02 00:01:46</td>\n",
       "      <td>Saturday</td>\n",
       "    </tr>\n",
       "    <tr>\n",
       "      <th>1</th>\n",
       "      <td>2987008</td>\n",
       "      <td>mobile</td>\n",
       "      <td>iOS Device</td>\n",
       "      <td>86535</td>\n",
       "      <td>15.000</td>\n",
       "      <td>H</td>\n",
       "      <td>visa</td>\n",
       "      <td>debit</td>\n",
       "      <td>anonymous.com</td>\n",
       "      <td>NaN</td>\n",
       "      <td>337.0</td>\n",
       "      <td>87.0</td>\n",
       "      <td>NaN</td>\n",
       "      <td>NaN</td>\n",
       "      <td>1</td>\n",
       "      <td>2017-12-02 00:02:15</td>\n",
       "      <td>Saturday</td>\n",
       "    </tr>\n",
       "    <tr>\n",
       "      <th>2</th>\n",
       "      <td>2987010</td>\n",
       "      <td>desktop</td>\n",
       "      <td>Windows</td>\n",
       "      <td>86549</td>\n",
       "      <td>75.887</td>\n",
       "      <td>C</td>\n",
       "      <td>mastercard</td>\n",
       "      <td>credit</td>\n",
       "      <td>gmail.com</td>\n",
       "      <td>gmail.com</td>\n",
       "      <td>NaN</td>\n",
       "      <td>NaN</td>\n",
       "      <td>NaN</td>\n",
       "      <td>NaN</td>\n",
       "      <td>1</td>\n",
       "      <td>2017-12-02 00:02:29</td>\n",
       "      <td>Saturday</td>\n",
       "    </tr>\n",
       "    <tr>\n",
       "      <th>3</th>\n",
       "      <td>2987011</td>\n",
       "      <td>desktop</td>\n",
       "      <td>NaN</td>\n",
       "      <td>86555</td>\n",
       "      <td>16.495</td>\n",
       "      <td>C</td>\n",
       "      <td>mastercard</td>\n",
       "      <td>debit</td>\n",
       "      <td>hotmail.com</td>\n",
       "      <td>hotmail.com</td>\n",
       "      <td>NaN</td>\n",
       "      <td>NaN</td>\n",
       "      <td>NaN</td>\n",
       "      <td>30.0</td>\n",
       "      <td>1</td>\n",
       "      <td>2017-12-02 00:02:35</td>\n",
       "      <td>Saturday</td>\n",
       "    </tr>\n",
       "    <tr>\n",
       "      <th>4</th>\n",
       "      <td>2987016</td>\n",
       "      <td>desktop</td>\n",
       "      <td>MacOS</td>\n",
       "      <td>86620</td>\n",
       "      <td>30.000</td>\n",
       "      <td>H</td>\n",
       "      <td>visa</td>\n",
       "      <td>debit</td>\n",
       "      <td>aol.com</td>\n",
       "      <td>NaN</td>\n",
       "      <td>170.0</td>\n",
       "      <td>87.0</td>\n",
       "      <td>NaN</td>\n",
       "      <td>NaN</td>\n",
       "      <td>1</td>\n",
       "      <td>2017-12-02 00:03:40</td>\n",
       "      <td>Saturday</td>\n",
       "    </tr>\n",
       "  </tbody>\n",
       "</table>\n",
       "</div>"
      ],
      "text/plain": [
       "   TransactionID DeviceType                     DeviceInfo  TransactionDT  \\\n",
       "0        2987004     mobile  SAMSUNG SM-G892A Build/NRD90M          86506   \n",
       "1        2987008     mobile                     iOS Device          86535   \n",
       "2        2987010    desktop                        Windows          86549   \n",
       "3        2987011    desktop                            NaN          86555   \n",
       "4        2987016    desktop                          MacOS          86620   \n",
       "\n",
       "   TransactionAmt ProductCD       card4   card6  P_emaildomain R_emaildomain  \\\n",
       "0          50.000         H  mastercard  credit      gmail.com           NaN   \n",
       "1          15.000         H        visa   debit  anonymous.com           NaN   \n",
       "2          75.887         C  mastercard  credit      gmail.com     gmail.com   \n",
       "3          16.495         C  mastercard   debit    hotmail.com   hotmail.com   \n",
       "4          30.000         H        visa   debit        aol.com           NaN   \n",
       "\n",
       "   addr1  addr2  dist1  dist2  TransactionDTDayNumber   TransactionDTDate  \\\n",
       "0  420.0   87.0    NaN    NaN                       1 2017-12-02 00:01:46   \n",
       "1  337.0   87.0    NaN    NaN                       1 2017-12-02 00:02:15   \n",
       "2    NaN    NaN    NaN    NaN                       1 2017-12-02 00:02:29   \n",
       "3    NaN    NaN    NaN   30.0                       1 2017-12-02 00:02:35   \n",
       "4  170.0   87.0    NaN    NaN                       1 2017-12-02 00:03:40   \n",
       "\n",
       "  DayOfTheWeek  \n",
       "0     Saturday  \n",
       "1     Saturday  \n",
       "2     Saturday  \n",
       "3     Saturday  \n",
       "4     Saturday  "
      ]
     },
     "execution_count": 304,
     "metadata": {},
     "output_type": "execute_result"
    }
   ],
   "source": [
    "df_cumulative['DayOfTheWeek'] = df_cumulative['TransactionDTDate'].dt.weekday_name\n",
    "df_cumulative.head()"
   ]
  },
  {
   "cell_type": "markdown",
   "metadata": {},
   "source": [
    "We change the email domains and device infos which are less than 5% of the data to 'other' type."
   ]
  },
  {
   "cell_type": "code",
   "execution_count": 306,
   "metadata": {},
   "outputs": [
    {
     "name": "stderr",
     "output_type": "stream",
     "text": [
      "C:\\Users\\sneha\\Anaconda3\\lib\\site-packages\\ipykernel_launcher.py:2: SettingWithCopyWarning: \n",
      "A value is trying to be set on a copy of a slice from a DataFrame\n",
      "\n",
      "See the caveats in the documentation: http://pandas.pydata.org/pandas-docs/stable/indexing.html#indexing-view-versus-copy\n",
      "  \n"
     ]
    }
   ],
   "source": [
    "#In the P_emaildomain column, we take the email domains whose count is less than 5% of the total rows and name them 'P_EmaildomainOther'\n",
    "df_cumulative.P_emaildomain[df_cumulative.P_emaildomain.replace(Counter(df_cumulative.P_emaildomain)) < len(df_cumulative.P_emaildomain)*0.05] = 'P_emaildomainOther'"
   ]
  },
  {
   "cell_type": "code",
   "execution_count": 308,
   "metadata": {},
   "outputs": [
    {
     "name": "stderr",
     "output_type": "stream",
     "text": [
      "C:\\Users\\sneha\\Anaconda3\\lib\\site-packages\\ipykernel_launcher.py:2: SettingWithCopyWarning: \n",
      "A value is trying to be set on a copy of a slice from a DataFrame\n",
      "\n",
      "See the caveats in the documentation: http://pandas.pydata.org/pandas-docs/stable/indexing.html#indexing-view-versus-copy\n",
      "  \n"
     ]
    }
   ],
   "source": [
    "#In the R_emaildomain column, we take the email domains whose count is less than 5% of the total rows and name them 'R_EmaildomainOther'\n",
    "df_cumulative.R_emaildomain[df_cumulative.R_emaildomain.replace(Counter(df_cumulative.R_emaildomain)) < len(df_cumulative.R_emaildomain)*0.05] = 'R_emaildomainOther'"
   ]
  },
  {
   "cell_type": "code",
   "execution_count": 310,
   "metadata": {},
   "outputs": [
    {
     "name": "stderr",
     "output_type": "stream",
     "text": [
      "C:\\Users\\sneha\\Anaconda3\\lib\\site-packages\\ipykernel_launcher.py:2: SettingWithCopyWarning: \n",
      "A value is trying to be set on a copy of a slice from a DataFrame\n",
      "\n",
      "See the caveats in the documentation: http://pandas.pydata.org/pandas-docs/stable/indexing.html#indexing-view-versus-copy\n",
      "  \n"
     ]
    }
   ],
   "source": [
    "#In the DeviceInfo column, we take the devices whose count is less than 5% of the total rows and name them 'DeviceInfoOther'\n",
    "df_cumulative.DeviceInfo[df_cumulative.DeviceInfo.replace(Counter(df_cumulative.DeviceInfo)) < len(df_cumulative.DeviceInfo)*0.05] = 'DeviceInfoOther'"
   ]
  },
  {
   "cell_type": "code",
   "execution_count": 311,
   "metadata": {},
   "outputs": [
    {
     "data": {
      "text/plain": [
       "141013"
      ]
     },
     "execution_count": 311,
     "metadata": {},
     "output_type": "execute_result"
    }
   ],
   "source": [
    "df_cumulative[df_cumulative['DeviceInfo']==\"DeviceInfoOther\"]['TransactionID'].count()"
   ]
  },
  {
   "cell_type": "code",
   "execution_count": 312,
   "metadata": {
    "scrolled": true
   },
   "outputs": [
    {
     "data": {
      "text/plain": [
       "TransactionID                   0\n",
       "DeviceType                 819490\n",
       "DeviceInfo                 863508\n",
       "TransactionDT                   0\n",
       "TransactionAmt                  0\n",
       "ProductCD                       0\n",
       "card4                        4663\n",
       "card6                        4578\n",
       "P_emaildomain              163648\n",
       "R_emaildomain              824070\n",
       "addr1                      131315\n",
       "addr2                      131315\n",
       "dist1                      643488\n",
       "dist2                     1023168\n",
       "TransactionDTDayNumber          0\n",
       "TransactionDTDate               0\n",
       "DayOfTheWeek                    0\n",
       "dtype: int64"
      ]
     },
     "execution_count": 312,
     "metadata": {},
     "output_type": "execute_result"
    }
   ],
   "source": [
    "#Count null values of each feature\n",
    "df_cumulative.isna().sum()"
   ]
  },
  {
   "cell_type": "markdown",
   "metadata": {},
   "source": [
    "To fill null values of R_emaildomain, we analyse the P_emaildomain and dist1(some form of distance between the purchaser and receiver).\n",
    "For entries with a non null P_emaildomain and dist1=0, we fill the null value of R_emaildomain with P_emaildomain itself, \n",
    "since the purchaser and receiver will probably have the same email address. "
   ]
  },
  {
   "cell_type": "code",
   "execution_count": 313,
   "metadata": {},
   "outputs": [
    {
     "data": {
      "text/plain": [
       "TransactionID             39102\n",
       "DeviceType                    0\n",
       "DeviceInfo                    0\n",
       "TransactionDT             39102\n",
       "TransactionAmt            39102\n",
       "ProductCD                 39102\n",
       "card4                     39029\n",
       "card6                     39029\n",
       "P_emaildomain             29101\n",
       "R_emaildomain                 0\n",
       "addr1                     39093\n",
       "addr2                     39093\n",
       "dist1                     39102\n",
       "dist2                         0\n",
       "TransactionDTDayNumber    39102\n",
       "TransactionDTDate         39102\n",
       "DayOfTheWeek              39102\n",
       "dtype: int64"
      ]
     },
     "execution_count": 313,
     "metadata": {},
     "output_type": "execute_result"
    }
   ],
   "source": [
    "df_cumulative[df_cumulative['dist1']==0].count()"
   ]
  },
  {
   "cell_type": "code",
   "execution_count": 314,
   "metadata": {},
   "outputs": [
    {
     "data": {
      "text/plain": [
       "TransactionID             29101\n",
       "DeviceType                    0\n",
       "DeviceInfo                    0\n",
       "TransactionDT             29101\n",
       "TransactionAmt            29101\n",
       "ProductCD                 29101\n",
       "card4                     29048\n",
       "card6                     29048\n",
       "P_emaildomain             29101\n",
       "R_emaildomain                 0\n",
       "addr1                     29092\n",
       "addr2                     29092\n",
       "dist1                     29101\n",
       "dist2                         0\n",
       "TransactionDTDayNumber    29101\n",
       "TransactionDTDate         29101\n",
       "DayOfTheWeek              29101\n",
       "dtype: int64"
      ]
     },
     "execution_count": 314,
     "metadata": {},
     "output_type": "execute_result"
    }
   ],
   "source": [
    "df_cumulative[(df_cumulative['dist1']==0) & (df_cumulative['P_emaildomain'].notnull()) ].count()"
   ]
  },
  {
   "cell_type": "code",
   "execution_count": 315,
   "metadata": {},
   "outputs": [],
   "source": [
    "# We replace the R_emaildomain with the P_emaildomain for entries with dist1 = 0.\n",
    "#Since we assume dist1 is some form of distance between purcjaser and receiver.\n",
    "df_cumulative['R_emaildomain'] = np.where((df_cumulative['dist1']==0) & (df_cumulative['P_emaildomain'].notnull()) , df_cumulative['P_emaildomain'],df_cumulative['R_emaildomain'])"
   ]
  },
  {
   "cell_type": "markdown",
   "metadata": {},
   "source": [
    "Filling the null values. We can replace missing categorical values to 'unknown' type, mainly because in transaction data, \n",
    "null value may be hiding or masking something. So, we can find the correlation with the unknown type for any interesting observations."
   ]
  },
  {
   "cell_type": "code",
   "execution_count": 316,
   "metadata": {},
   "outputs": [
    {
     "data": {
      "text/plain": [
       "unkDeviceType    819490\n",
       "desktop          159568\n",
       "mobile           118173\n",
       "Name: DeviceType, dtype: int64"
      ]
     },
     "execution_count": 316,
     "metadata": {},
     "output_type": "execute_result"
    }
   ],
   "source": [
    "#replacing missing device type values to unkdevicetype\n",
    "df_cumulative.DeviceType.fillna('unkDeviceType',inplace=True)\n",
    "df_cumulative.DeviceType.value_counts()"
   ]
  },
  {
   "cell_type": "code",
   "execution_count": 317,
   "metadata": {},
   "outputs": [
    {
     "data": {
      "text/plain": [
       "unkDeviceInfo      863508\n",
       "DeviceInfoOther    141013\n",
       "Windows             92710\n",
       "Name: DeviceInfo, dtype: int64"
      ]
     },
     "execution_count": 317,
     "metadata": {},
     "output_type": "execute_result"
    }
   ],
   "source": [
    "#replacing missing device info values to unkdeviceinfo\n",
    "df_cumulative.DeviceInfo.fillna('unkDeviceInfo',inplace=True)\n",
    "df_cumulative.DeviceInfo.value_counts()"
   ]
  },
  {
   "cell_type": "code",
   "execution_count": 318,
   "metadata": {},
   "outputs": [
    {
     "data": {
      "text/plain": [
       "debit              824959\n",
       "credit             267648\n",
       "unkcard6             4578\n",
       "debit or credit        30\n",
       "charge card            16\n",
       "Name: card6, dtype: int64"
      ]
     },
     "execution_count": 318,
     "metadata": {},
     "output_type": "execute_result"
    }
   ],
   "source": [
    "#df_cumulative['card6'].isnull().sum() = 1571. So, we replace it with unkcard6 type\n",
    "df_cumulative.card6.fillna('unkcard6',inplace=True)\n",
    "df_cumulative.card6.value_counts()"
   ]
  },
  {
   "cell_type": "code",
   "execution_count": 319,
   "metadata": {},
   "outputs": [
    {
     "data": {
      "text/plain": [
       "visa                719649\n",
       "mastercard          347386\n",
       "american express     16009\n",
       "discover              9524\n",
       "unkcard4              4663\n",
       "Name: card4, dtype: int64"
      ]
     },
     "execution_count": 319,
     "metadata": {},
     "output_type": "execute_result"
    }
   ],
   "source": [
    "#df_cumulative['card4'].isnull().sum() = 1577. So, we replace it with unkcard4 type\n",
    "df_cumulative.card4.fillna('unkcard4',inplace=True)\n",
    "df_cumulative['card4'].value_counts()"
   ]
  },
  {
   "cell_type": "code",
   "execution_count": 320,
   "metadata": {
    "collapsed": true
   },
   "outputs": [
    {
     "data": {
      "text/plain": [
       "87.0        956415\n",
       "unkaddr2    131315\n",
       "60.0          7125\n",
       "96.0          1246\n",
       "32.0           152\n",
       "65.0           131\n",
       "31.0            83\n",
       "16.0            77\n",
       "19.0            56\n",
       "69.0            44\n",
       "27.0            34\n",
       "26.0            32\n",
       "43.0            30\n",
       "57.0            29\n",
       "34.0            27\n",
       "98.0            26\n",
       "73.0            26\n",
       "102.0           21\n",
       "59.0            19\n",
       "54.0            16\n",
       "29.0            14\n",
       "68.0            13\n",
       "17.0            11\n",
       "10.0            11\n",
       "72.0            10\n",
       "71.0            10\n",
       "79.0             9\n",
       "78.0             9\n",
       "88.0             9\n",
       "36.0             9\n",
       "             ...  \n",
       "97.0             2\n",
       "76.0             2\n",
       "77.0             2\n",
       "81.0             2\n",
       "92.0             2\n",
       "90.0             2\n",
       "63.0             2\n",
       "91.0             1\n",
       "64.0             1\n",
       "11.0             1\n",
       "58.0             1\n",
       "50.0             1\n",
       "14.0             1\n",
       "15.0             1\n",
       "49.0             1\n",
       "75.0             1\n",
       "85.0             1\n",
       "99.0             1\n",
       "22.0             1\n",
       "33.0             1\n",
       "80.0             1\n",
       "25.0             1\n",
       "42.0             1\n",
       "83.0             1\n",
       "70.0             1\n",
       "37.0             1\n",
       "82.0             1\n",
       "35.0             1\n",
       "89.0             1\n",
       "55.0             1\n",
       "Name: addr2, Length: 94, dtype: int64"
      ]
     },
     "execution_count": 320,
     "metadata": {},
     "output_type": "execute_result"
    }
   ],
   "source": [
    "#df_cumulative['addr2'].isnull().sum() = 65706. We replace with unkaddr2 type.\n",
    "df_cumulative.addr2.fillna('unkaddr2',inplace=True)\n",
    "df_cumulative['addr2'].value_counts()"
   ]
  },
  {
   "cell_type": "code",
   "execution_count": 321,
   "metadata": {
    "collapsed": true
   },
   "outputs": [
    {
     "data": {
      "text/plain": [
       "unkaddr1    131315\n",
       "299.0        85045\n",
       "204.0        77069\n",
       "325.0        76902\n",
       "264.0        72580\n",
       "330.0        48387\n",
       "315.0        43035\n",
       "441.0        38890\n",
       "272.0        35929\n",
       "123.0        28700\n",
       "126.0        28198\n",
       "337.0        28081\n",
       "191.0        27910\n",
       "184.0        27205\n",
       "181.0        25410\n",
       "143.0        18431\n",
       "476.0        17455\n",
       "310.0        16127\n",
       "327.0        15904\n",
       "387.0        15737\n",
       "472.0        15704\n",
       "512.0        15251\n",
       "433.0        14542\n",
       "231.0        13532\n",
       "485.0        12540\n",
       "269.0        12156\n",
       "205.0        11025\n",
       "225.0         9886\n",
       "220.0         9371\n",
       "251.0         9146\n",
       "             ...  \n",
       "378.0            1\n",
       "200.0            1\n",
       "380.0            1\n",
       "490.0            1\n",
       "383.0            1\n",
       "196.0            1\n",
       "365.0            1\n",
       "363.0            1\n",
       "245.0            1\n",
       "362.0            1\n",
       "244.0            1\n",
       "347.0            1\n",
       "506.0            1\n",
       "241.0            1\n",
       "240.0            1\n",
       "475.0            1\n",
       "238.0            1\n",
       "235.0            1\n",
       "234.0            1\n",
       "233.0            1\n",
       "232.0            1\n",
       "352.0            1\n",
       "230.0            1\n",
       "229.0            1\n",
       "353.0            1\n",
       "354.0            1\n",
       "510.0            1\n",
       "357.0            1\n",
       "358.0            1\n",
       "449.0            1\n",
       "Name: addr1, Length: 442, dtype: int64"
      ]
     },
     "execution_count": 321,
     "metadata": {},
     "output_type": "execute_result"
    }
   ],
   "source": [
    "#df_cumulative['addr1'].isnull().sum() = 65706. We replace with unkaddr1 type.\n",
    "df_cumulative.addr1.fillna('unkaddr1',inplace=True)\n",
    "df_cumulative['addr1'].value_counts()"
   ]
  },
  {
   "cell_type": "code",
   "execution_count": 322,
   "metadata": {},
   "outputs": [
    {
     "data": {
      "text/plain": [
       "gmail.com             435803\n",
       "yahoo.com             182784\n",
       "unkPemail             163648\n",
       "P_emaildomainOther    158285\n",
       "hotmail.com            85649\n",
       "anonymous.com          71062\n",
       "Name: P_emaildomain, dtype: int64"
      ]
     },
     "execution_count": 322,
     "metadata": {},
     "output_type": "execute_result"
    }
   ],
   "source": [
    "#df_cumulative['P_emaildomain'].isnull().sum() = 94456. Replace with unkPemail\n",
    "df_cumulative.P_emaildomain.fillna('unkPemail',inplace=True)\n",
    "df_cumulative['P_emaildomain'].value_counts()"
   ]
  },
  {
   "cell_type": "code",
   "execution_count": 323,
   "metadata": {},
   "outputs": [
    {
     "data": {
      "text/plain": [
       "unkRemail             794969\n",
       "R_emaildomainOther    154276\n",
       "gmail.com             131562\n",
       "yahoo.com               6951\n",
       "P_emaildomainOther      5780\n",
       "anonymous.com           2183\n",
       "hotmail.com             1510\n",
       "Name: R_emaildomain, dtype: int64"
      ]
     },
     "execution_count": 323,
     "metadata": {},
     "output_type": "execute_result"
    }
   ],
   "source": [
    "#df_cumulative['R_emaildomain'].isnull().sum() = 438670. Replace with unkRemail\n",
    "df_cumulative.R_emaildomain.fillna('unkRemail',inplace=True)\n",
    "df_cumulative['R_emaildomain'].value_counts()"
   ]
  },
  {
   "cell_type": "code",
   "execution_count": 324,
   "metadata": {},
   "outputs": [
    {
     "data": {
      "text/plain": [
       "TransactionID                   0\n",
       "DeviceType                      0\n",
       "DeviceInfo                      0\n",
       "TransactionDT                   0\n",
       "TransactionAmt                  0\n",
       "ProductCD                       0\n",
       "card4                           0\n",
       "card6                           0\n",
       "P_emaildomain                   0\n",
       "R_emaildomain                   0\n",
       "addr1                           0\n",
       "addr2                           0\n",
       "dist1                      643488\n",
       "dist2                     1023168\n",
       "TransactionDTDayNumber          0\n",
       "TransactionDTDate               0\n",
       "DayOfTheWeek                    0\n",
       "dtype: int64"
      ]
     },
     "execution_count": 324,
     "metadata": {},
     "output_type": "execute_result"
    }
   ],
   "source": [
    "df_cumulative.isnull().sum()"
   ]
  },
  {
   "cell_type": "code",
   "execution_count": 325,
   "metadata": {
    "scrolled": true
   },
   "outputs": [
    {
     "data": {
      "text/html": [
       "<div>\n",
       "<style scoped>\n",
       "    .dataframe tbody tr th:only-of-type {\n",
       "        vertical-align: middle;\n",
       "    }\n",
       "\n",
       "    .dataframe tbody tr th {\n",
       "        vertical-align: top;\n",
       "    }\n",
       "\n",
       "    .dataframe thead th {\n",
       "        text-align: right;\n",
       "    }\n",
       "</style>\n",
       "<table border=\"1\" class=\"dataframe\">\n",
       "  <thead>\n",
       "    <tr style=\"text-align: right;\">\n",
       "      <th></th>\n",
       "      <th>TransactionID</th>\n",
       "      <th>DeviceType</th>\n",
       "      <th>DeviceInfo</th>\n",
       "      <th>TransactionDT</th>\n",
       "      <th>TransactionAmt</th>\n",
       "      <th>ProductCD</th>\n",
       "      <th>card4</th>\n",
       "      <th>card6</th>\n",
       "      <th>P_emaildomain</th>\n",
       "      <th>R_emaildomain</th>\n",
       "      <th>addr1</th>\n",
       "      <th>addr2</th>\n",
       "      <th>dist1</th>\n",
       "      <th>dist2</th>\n",
       "      <th>TransactionDTDayNumber</th>\n",
       "      <th>TransactionDTDate</th>\n",
       "      <th>DayOfTheWeek</th>\n",
       "      <th>hourOfDay</th>\n",
       "    </tr>\n",
       "  </thead>\n",
       "  <tbody>\n",
       "    <tr>\n",
       "      <th>0</th>\n",
       "      <td>2987004</td>\n",
       "      <td>mobile</td>\n",
       "      <td>DeviceInfoOther</td>\n",
       "      <td>86506</td>\n",
       "      <td>50.000</td>\n",
       "      <td>H</td>\n",
       "      <td>mastercard</td>\n",
       "      <td>credit</td>\n",
       "      <td>gmail.com</td>\n",
       "      <td>unkRemail</td>\n",
       "      <td>420</td>\n",
       "      <td>87</td>\n",
       "      <td>NaN</td>\n",
       "      <td>NaN</td>\n",
       "      <td>1</td>\n",
       "      <td>2017-12-02 00:01:46</td>\n",
       "      <td>Saturday</td>\n",
       "      <td>0</td>\n",
       "    </tr>\n",
       "    <tr>\n",
       "      <th>1</th>\n",
       "      <td>2987008</td>\n",
       "      <td>mobile</td>\n",
       "      <td>DeviceInfoOther</td>\n",
       "      <td>86535</td>\n",
       "      <td>15.000</td>\n",
       "      <td>H</td>\n",
       "      <td>visa</td>\n",
       "      <td>debit</td>\n",
       "      <td>anonymous.com</td>\n",
       "      <td>unkRemail</td>\n",
       "      <td>337</td>\n",
       "      <td>87</td>\n",
       "      <td>NaN</td>\n",
       "      <td>NaN</td>\n",
       "      <td>1</td>\n",
       "      <td>2017-12-02 00:02:15</td>\n",
       "      <td>Saturday</td>\n",
       "      <td>0</td>\n",
       "    </tr>\n",
       "    <tr>\n",
       "      <th>2</th>\n",
       "      <td>2987010</td>\n",
       "      <td>desktop</td>\n",
       "      <td>Windows</td>\n",
       "      <td>86549</td>\n",
       "      <td>75.887</td>\n",
       "      <td>C</td>\n",
       "      <td>mastercard</td>\n",
       "      <td>credit</td>\n",
       "      <td>gmail.com</td>\n",
       "      <td>gmail.com</td>\n",
       "      <td>unkaddr1</td>\n",
       "      <td>unkaddr2</td>\n",
       "      <td>NaN</td>\n",
       "      <td>NaN</td>\n",
       "      <td>1</td>\n",
       "      <td>2017-12-02 00:02:29</td>\n",
       "      <td>Saturday</td>\n",
       "      <td>0</td>\n",
       "    </tr>\n",
       "    <tr>\n",
       "      <th>3</th>\n",
       "      <td>2987011</td>\n",
       "      <td>desktop</td>\n",
       "      <td>unkDeviceInfo</td>\n",
       "      <td>86555</td>\n",
       "      <td>16.495</td>\n",
       "      <td>C</td>\n",
       "      <td>mastercard</td>\n",
       "      <td>debit</td>\n",
       "      <td>hotmail.com</td>\n",
       "      <td>R_emaildomainOther</td>\n",
       "      <td>unkaddr1</td>\n",
       "      <td>unkaddr2</td>\n",
       "      <td>NaN</td>\n",
       "      <td>30.0</td>\n",
       "      <td>1</td>\n",
       "      <td>2017-12-02 00:02:35</td>\n",
       "      <td>Saturday</td>\n",
       "      <td>0</td>\n",
       "    </tr>\n",
       "    <tr>\n",
       "      <th>4</th>\n",
       "      <td>2987016</td>\n",
       "      <td>desktop</td>\n",
       "      <td>DeviceInfoOther</td>\n",
       "      <td>86620</td>\n",
       "      <td>30.000</td>\n",
       "      <td>H</td>\n",
       "      <td>visa</td>\n",
       "      <td>debit</td>\n",
       "      <td>P_emaildomainOther</td>\n",
       "      <td>unkRemail</td>\n",
       "      <td>170</td>\n",
       "      <td>87</td>\n",
       "      <td>NaN</td>\n",
       "      <td>NaN</td>\n",
       "      <td>1</td>\n",
       "      <td>2017-12-02 00:03:40</td>\n",
       "      <td>Saturday</td>\n",
       "      <td>0</td>\n",
       "    </tr>\n",
       "  </tbody>\n",
       "</table>\n",
       "</div>"
      ],
      "text/plain": [
       "   TransactionID DeviceType       DeviceInfo  TransactionDT  TransactionAmt  \\\n",
       "0        2987004     mobile  DeviceInfoOther          86506          50.000   \n",
       "1        2987008     mobile  DeviceInfoOther          86535          15.000   \n",
       "2        2987010    desktop          Windows          86549          75.887   \n",
       "3        2987011    desktop    unkDeviceInfo          86555          16.495   \n",
       "4        2987016    desktop  DeviceInfoOther          86620          30.000   \n",
       "\n",
       "  ProductCD       card4   card6       P_emaildomain       R_emaildomain  \\\n",
       "0         H  mastercard  credit           gmail.com           unkRemail   \n",
       "1         H        visa   debit       anonymous.com           unkRemail   \n",
       "2         C  mastercard  credit           gmail.com           gmail.com   \n",
       "3         C  mastercard   debit         hotmail.com  R_emaildomainOther   \n",
       "4         H        visa   debit  P_emaildomainOther           unkRemail   \n",
       "\n",
       "      addr1     addr2  dist1  dist2  TransactionDTDayNumber  \\\n",
       "0       420        87    NaN    NaN                       1   \n",
       "1       337        87    NaN    NaN                       1   \n",
       "2  unkaddr1  unkaddr2    NaN    NaN                       1   \n",
       "3  unkaddr1  unkaddr2    NaN   30.0                       1   \n",
       "4       170        87    NaN    NaN                       1   \n",
       "\n",
       "    TransactionDTDate DayOfTheWeek  hourOfDay  \n",
       "0 2017-12-02 00:01:46     Saturday          0  \n",
       "1 2017-12-02 00:02:15     Saturday          0  \n",
       "2 2017-12-02 00:02:29     Saturday          0  \n",
       "3 2017-12-02 00:02:35     Saturday          0  \n",
       "4 2017-12-02 00:03:40     Saturday          0  "
      ]
     },
     "execution_count": 325,
     "metadata": {},
     "output_type": "execute_result"
    }
   ],
   "source": [
    "df_cumulative['hourOfDay'] = df_cumulative.TransactionDTDate.dt.hour\n",
    "df_cumulative.head()\n",
    "#df_cumulative.tail()"
   ]
  },
  {
   "cell_type": "markdown",
   "metadata": {},
   "source": [
    "One hot encoding."
   ]
  },
  {
   "cell_type": "code",
   "execution_count": 326,
   "metadata": {},
   "outputs": [
    {
     "data": {
      "text/plain": [
       "(1097231, 585)"
      ]
     },
     "execution_count": 326,
     "metadata": {},
     "output_type": "execute_result"
    }
   ],
   "source": [
    "#Performing one hot encoding on the dataframe\n",
    "df_cumulative_ohe = pd.get_dummies(df_cumulative)\n",
    "df_cumulative_ohe.shape"
   ]
  },
  {
   "cell_type": "code",
   "execution_count": 327,
   "metadata": {},
   "outputs": [],
   "source": [
    "df_c_copy = df_cumulative_ohe.copy()\n",
    "df_c_copy = df_c_copy.drop(['dist1','dist2','TransactionID','TransactionDT','TransactionDTDate'], axis=1)"
   ]
  },
  {
   "cell_type": "markdown",
   "metadata": {},
   "source": [
    "Splitting the train and test data for model building."
   ]
  },
  {
   "cell_type": "code",
   "execution_count": 332,
   "metadata": {},
   "outputs": [
    {
     "name": "stdout",
     "output_type": "stream",
     "text": [
      "test data size is 506691\n",
      "train data size is 590540\n"
     ]
    }
   ],
   "source": [
    "trainSize = Xtrain.shape[0]\n",
    "testSize = Xtest.shape[0] \n",
    "print(\"test data size is\",testSize)\n",
    "print(\"train data size is\",trainSize)"
   ]
  },
  {
   "cell_type": "code",
   "execution_count": 334,
   "metadata": {},
   "outputs": [
    {
     "data": {
      "text/plain": [
       "(590540, 580)"
      ]
     },
     "execution_count": 334,
     "metadata": {},
     "output_type": "execute_result"
    }
   ],
   "source": [
    "#dfSize = df_c_copy.shape[0] = 1097231\n",
    "Xtr = df_c_copy[0:trainSize]\n",
    "Xtr.shape"
   ]
  },
  {
   "cell_type": "code",
   "execution_count": 355,
   "metadata": {
    "scrolled": true
   },
   "outputs": [
    {
     "data": {
      "text/html": [
       "<div>\n",
       "<style scoped>\n",
       "    .dataframe tbody tr th:only-of-type {\n",
       "        vertical-align: middle;\n",
       "    }\n",
       "\n",
       "    .dataframe tbody tr th {\n",
       "        vertical-align: top;\n",
       "    }\n",
       "\n",
       "    .dataframe thead th {\n",
       "        text-align: right;\n",
       "    }\n",
       "</style>\n",
       "<table border=\"1\" class=\"dataframe\">\n",
       "  <thead>\n",
       "    <tr style=\"text-align: right;\">\n",
       "      <th></th>\n",
       "      <th>TransactionAmt</th>\n",
       "      <th>TransactionDTDayNumber</th>\n",
       "      <th>hourOfDay</th>\n",
       "      <th>DeviceType_desktop</th>\n",
       "      <th>DeviceType_mobile</th>\n",
       "      <th>DeviceType_unkDeviceType</th>\n",
       "      <th>DeviceInfo_DeviceInfoOther</th>\n",
       "      <th>DeviceInfo_Windows</th>\n",
       "      <th>DeviceInfo_unkDeviceInfo</th>\n",
       "      <th>ProductCD_C</th>\n",
       "      <th>...</th>\n",
       "      <th>addr2_101.0</th>\n",
       "      <th>addr2_102.0</th>\n",
       "      <th>addr2_unkaddr2</th>\n",
       "      <th>DayOfTheWeek_Friday</th>\n",
       "      <th>DayOfTheWeek_Monday</th>\n",
       "      <th>DayOfTheWeek_Saturday</th>\n",
       "      <th>DayOfTheWeek_Sunday</th>\n",
       "      <th>DayOfTheWeek_Thursday</th>\n",
       "      <th>DayOfTheWeek_Tuesday</th>\n",
       "      <th>DayOfTheWeek_Wednesday</th>\n",
       "    </tr>\n",
       "  </thead>\n",
       "  <tbody>\n",
       "    <tr>\n",
       "      <th>0</th>\n",
       "      <td>6.271</td>\n",
       "      <td>213</td>\n",
       "      <td>0</td>\n",
       "      <td>0</td>\n",
       "      <td>1</td>\n",
       "      <td>0</td>\n",
       "      <td>1</td>\n",
       "      <td>0</td>\n",
       "      <td>0</td>\n",
       "      <td>1</td>\n",
       "      <td>...</td>\n",
       "      <td>0</td>\n",
       "      <td>0</td>\n",
       "      <td>1</td>\n",
       "      <td>0</td>\n",
       "      <td>1</td>\n",
       "      <td>0</td>\n",
       "      <td>0</td>\n",
       "      <td>0</td>\n",
       "      <td>0</td>\n",
       "      <td>0</td>\n",
       "    </tr>\n",
       "    <tr>\n",
       "      <th>1</th>\n",
       "      <td>50.000</td>\n",
       "      <td>213</td>\n",
       "      <td>0</td>\n",
       "      <td>0</td>\n",
       "      <td>1</td>\n",
       "      <td>0</td>\n",
       "      <td>1</td>\n",
       "      <td>0</td>\n",
       "      <td>0</td>\n",
       "      <td>0</td>\n",
       "      <td>...</td>\n",
       "      <td>0</td>\n",
       "      <td>0</td>\n",
       "      <td>0</td>\n",
       "      <td>0</td>\n",
       "      <td>1</td>\n",
       "      <td>0</td>\n",
       "      <td>0</td>\n",
       "      <td>0</td>\n",
       "      <td>0</td>\n",
       "      <td>0</td>\n",
       "    </tr>\n",
       "    <tr>\n",
       "      <th>2</th>\n",
       "      <td>37.318</td>\n",
       "      <td>213</td>\n",
       "      <td>0</td>\n",
       "      <td>1</td>\n",
       "      <td>0</td>\n",
       "      <td>0</td>\n",
       "      <td>1</td>\n",
       "      <td>0</td>\n",
       "      <td>0</td>\n",
       "      <td>1</td>\n",
       "      <td>...</td>\n",
       "      <td>0</td>\n",
       "      <td>0</td>\n",
       "      <td>1</td>\n",
       "      <td>0</td>\n",
       "      <td>1</td>\n",
       "      <td>0</td>\n",
       "      <td>0</td>\n",
       "      <td>0</td>\n",
       "      <td>0</td>\n",
       "      <td>0</td>\n",
       "    </tr>\n",
       "    <tr>\n",
       "      <th>3</th>\n",
       "      <td>6.271</td>\n",
       "      <td>213</td>\n",
       "      <td>0</td>\n",
       "      <td>0</td>\n",
       "      <td>1</td>\n",
       "      <td>0</td>\n",
       "      <td>1</td>\n",
       "      <td>0</td>\n",
       "      <td>0</td>\n",
       "      <td>1</td>\n",
       "      <td>...</td>\n",
       "      <td>0</td>\n",
       "      <td>0</td>\n",
       "      <td>1</td>\n",
       "      <td>0</td>\n",
       "      <td>1</td>\n",
       "      <td>0</td>\n",
       "      <td>0</td>\n",
       "      <td>0</td>\n",
       "      <td>0</td>\n",
       "      <td>0</td>\n",
       "    </tr>\n",
       "    <tr>\n",
       "      <th>4</th>\n",
       "      <td>52.258</td>\n",
       "      <td>213</td>\n",
       "      <td>0</td>\n",
       "      <td>0</td>\n",
       "      <td>1</td>\n",
       "      <td>0</td>\n",
       "      <td>1</td>\n",
       "      <td>0</td>\n",
       "      <td>0</td>\n",
       "      <td>1</td>\n",
       "      <td>...</td>\n",
       "      <td>0</td>\n",
       "      <td>0</td>\n",
       "      <td>1</td>\n",
       "      <td>0</td>\n",
       "      <td>1</td>\n",
       "      <td>0</td>\n",
       "      <td>0</td>\n",
       "      <td>0</td>\n",
       "      <td>0</td>\n",
       "      <td>0</td>\n",
       "    </tr>\n",
       "  </tbody>\n",
       "</table>\n",
       "<p>5 rows × 580 columns</p>\n",
       "</div>"
      ],
      "text/plain": [
       "   TransactionAmt  TransactionDTDayNumber  hourOfDay  DeviceType_desktop  \\\n",
       "0           6.271                     213          0                   0   \n",
       "1          50.000                     213          0                   0   \n",
       "2          37.318                     213          0                   1   \n",
       "3           6.271                     213          0                   0   \n",
       "4          52.258                     213          0                   0   \n",
       "\n",
       "   DeviceType_mobile  DeviceType_unkDeviceType  DeviceInfo_DeviceInfoOther  \\\n",
       "0                  1                         0                           1   \n",
       "1                  1                         0                           1   \n",
       "2                  0                         0                           1   \n",
       "3                  1                         0                           1   \n",
       "4                  1                         0                           1   \n",
       "\n",
       "   DeviceInfo_Windows  DeviceInfo_unkDeviceInfo  ProductCD_C  ...  \\\n",
       "0                   0                         0            1  ...   \n",
       "1                   0                         0            0  ...   \n",
       "2                   0                         0            1  ...   \n",
       "3                   0                         0            1  ...   \n",
       "4                   0                         0            1  ...   \n",
       "\n",
       "   addr2_101.0  addr2_102.0  addr2_unkaddr2  DayOfTheWeek_Friday  \\\n",
       "0            0            0               1                    0   \n",
       "1            0            0               0                    0   \n",
       "2            0            0               1                    0   \n",
       "3            0            0               1                    0   \n",
       "4            0            0               1                    0   \n",
       "\n",
       "   DayOfTheWeek_Monday  DayOfTheWeek_Saturday  DayOfTheWeek_Sunday  \\\n",
       "0                    1                      0                    0   \n",
       "1                    1                      0                    0   \n",
       "2                    1                      0                    0   \n",
       "3                    1                      0                    0   \n",
       "4                    1                      0                    0   \n",
       "\n",
       "   DayOfTheWeek_Thursday  DayOfTheWeek_Tuesday  DayOfTheWeek_Wednesday  \n",
       "0                      0                     0                       0  \n",
       "1                      0                     0                       0  \n",
       "2                      0                     0                       0  \n",
       "3                      0                     0                       0  \n",
       "4                      0                     0                       0  \n",
       "\n",
       "[5 rows x 580 columns]"
      ]
     },
     "execution_count": 355,
     "metadata": {},
     "output_type": "execute_result"
    }
   ],
   "source": [
    "Xte = df_c_copy[dfSize-testSize:dfSize]\n",
    "Xte.head()"
   ]
  },
  {
   "cell_type": "markdown",
   "metadata": {},
   "source": [
    "Building a decision tree classifier."
   ]
  },
  {
   "cell_type": "code",
   "execution_count": 399,
   "metadata": {},
   "outputs": [],
   "source": [
    "from sklearn.metrics import accuracy_score\n",
    "from sklearn.model_selection import train_test_split\n",
    "\n",
    "X = Xtr\n",
    "y = Ytrain\n",
    "X_train, X_test, y_train, y_test = train_test_split(X, y, test_size=0.3)"
   ]
  },
  {
   "cell_type": "code",
   "execution_count": 443,
   "metadata": {},
   "outputs": [],
   "source": [
    "#Decision Tree\n",
    "from sklearn.tree import DecisionTreeClassifier\n",
    "from sklearn.metrics import accuracy_score\n",
    "\n",
    "classifier = DecisionTreeClassifier()\n",
    "classifier.fit(X_train,y_train)\n",
    "prediction1 = classifier.predict(X_test)"
   ]
  },
  {
   "cell_type": "markdown",
   "metadata": {},
   "source": [
    "Finding out accuracy."
   ]
  },
  {
   "cell_type": "code",
   "execution_count": 444,
   "metadata": {
    "scrolled": false
   },
   "outputs": [
    {
     "name": "stdout",
     "output_type": "stream",
     "text": [
      "\n",
      "The classifier's accuracy is 96.18 percent\n",
      "\n"
     ]
    }
   ],
   "source": [
    "print(\"\\nThe classifier's accuracy is %s percent\\n\" % round(100*accuracy_score(y_test, prediction1), 2))"
   ]
  },
  {
   "cell_type": "markdown",
   "metadata": {},
   "source": [
    "Calculating the AUC score"
   ]
  },
  {
   "cell_type": "code",
   "execution_count": 445,
   "metadata": {},
   "outputs": [],
   "source": [
    "from sklearn.metrics import roc_curve\n",
    "from sklearn.metrics import roc_auc_score"
   ]
  },
  {
   "cell_type": "code",
   "execution_count": 449,
   "metadata": {},
   "outputs": [],
   "source": [
    "probs = classifier.predict_proba(X_test)\n",
    "probs = probs[:, 1]\n"
   ]
  },
  {
   "cell_type": "code",
   "execution_count": 450,
   "metadata": {
    "scrolled": false
   },
   "outputs": [
    {
     "name": "stdout",
     "output_type": "stream",
     "text": [
      "AUC: 0.76\n"
     ]
    }
   ],
   "source": [
    "auc = roc_auc_score(y_test, probs)\n",
    "print('AUC: %.2f' % auc)"
   ]
  },
  {
   "cell_type": "markdown",
   "metadata": {},
   "source": [
    "Plotting the ROC curve"
   ]
  },
  {
   "cell_type": "code",
   "execution_count": 453,
   "metadata": {},
   "outputs": [],
   "source": [
    "\n",
    "def plot_roc_curve(fpr, tpr):\n",
    "    plt.plot(fpr, tpr, color='orange', label='ROC')\n",
    "    plt.plot([0, 1], [0, 1], color='darkblue', linestyle='--')\n",
    "    plt.xlabel('False Positive Rate')\n",
    "    plt.ylabel('True Positive Rate')\n",
    "    plt.title('Receiver Operating Characteristic (ROC) Curve')\n",
    "    plt.legend()\n",
    "    plt.show()\n"
   ]
  },
  {
   "cell_type": "markdown",
   "metadata": {},
   "source": [
    "Reference: [https://stackabuse.com/understanding-roc-curves-with-python/]"
   ]
  },
  {
   "cell_type": "code",
   "execution_count": 488,
   "metadata": {
    "scrolled": true
   },
   "outputs": [
    {
     "data": {
      "image/png": "[encoded data removed]",
      "text/plain": [
       "<Figure size 360x360 with 1 Axes>"
      ]
     },
     "metadata": {},
     "output_type": "display_data"
    }
   ],
   "source": [
    "fpr, tpr, thresholds = roc_curve(y_test, probs)\n",
    "plt.figure(figsize=(5,5))\n",
    "plot_roc_curve(fpr, tpr)\n"
   ]
  },
  {
   "cell_type": "markdown",
   "metadata": {},
   "source": [
    "Making predictions."
   ]
  },
  {
   "cell_type": "code",
   "execution_count": 434,
   "metadata": {},
   "outputs": [],
   "source": [
    "#Decision Tree\n",
    "from sklearn.tree import DecisionTreeClassifier\n",
    "from sklearn.metrics import accuracy_score\n",
    "\n",
    "classifier = DecisionTreeClassifier()\n",
    "classifier.fit(Xtr,Ytrain)\n",
    "prediction1 = classifier.predict(Xte)"
   ]
  },
  {
   "cell_type": "code",
   "execution_count": 436,
   "metadata": {},
   "outputs": [],
   "source": [
    "df_pred.to_csv('C:\\\\Users\\\\sneha\\\\Downloads\\\\Homeworks\\\\DSF\\\\prediction_final.csv', index=False)"
   ]
  },
  {
   "cell_type": "markdown",
   "metadata": {},
   "source": [
    "## Part 7 - Final Result"
   ]
  },
  {
   "cell_type": "markdown",
   "metadata": {},
   "source": [
    "Report the rank, score, number of entries, for your highest rank. Include a snapshot of your best score on the leaderboard as confirmation. Be sure to provide a link to your Kaggle profile. Make sure to include a screenshot of your ranking. Make sure your profile includes your face and affiliation with SBU."
   ]
  },
  {
   "cell_type": "markdown",
   "metadata": {},
   "source": [
    "Kaggle Link: https://www.kaggle.com/snehageetharsg"
   ]
  },
  {
   "cell_type": "markdown",
   "metadata": {},
   "source": [
    "Highest Rank: 5715"
   ]
  },
  {
   "cell_type": "markdown",
   "metadata": {},
   "source": [
    "Score: 0.5714"
   ]
  },
  {
   "cell_type": "markdown",
   "metadata": {},
   "source": [
    "Number of entries: 2"
   ]
  },
  {
   "attachments": {
    "KaggleRank.png": {
     "image/png": "[encoded data removed]"
    }
   },
   "cell_type": "markdown",
   "metadata": {},
   "source": [
    "INCLUDE IMAGE OF YOUR KAGGLE RANKING!![KaggleRank.png](attachment:KaggleRank.png)"
   ]
  },
  {
   "cell_type": "code",
   "execution_count": null,
   "metadata": {},
   "outputs": [],
   "source": []
  }
 ],
 "metadata": {
  "kernelspec": {
   "display_name": "Python 3",
   "language": "python",
   "name": "python3"
  },
  "language_info": {
   "codemirror_mode": {
    "name": "ipython",
    "version": 3
   },
   "file_extension": ".py",
   "mimetype": "text/x-python",
   "name": "python",
   "nbconvert_exporter": "python",
   "pygments_lexer": "ipython3",
   "version": "3.7.3"
  }
 },
 "nbformat": 4,
 "nbformat_minor": 2
}
